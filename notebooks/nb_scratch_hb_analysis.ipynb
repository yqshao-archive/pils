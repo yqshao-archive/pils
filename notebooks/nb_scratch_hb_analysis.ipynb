{
 "cells": [
  {
   "cell_type": "code",
   "execution_count": 10,
   "id": "7240e445-6c96-4e9f-8acd-dddd51c421c4",
   "metadata": {},
   "outputs": [],
   "source": [
    "from tips.io import load_ds\n",
    "from tqdm.notebook import tqdm\n",
    "from ase import Atoms, neighborlist\n",
    "from scipy import sparse\n",
    "from tips.io import load_ds\n",
    "import numpy as np"
   ]
  },
  {
   "cell_type": "code",
   "execution_count": 11,
   "id": "c9077fb1-ec5a-48e6-8845-b6abbe6e56b9",
   "metadata": {},
   "outputs": [],
   "source": [
    "def check_mols(mol_sets):\n",
    "    \"\"\"Check that the molecule scafolds are at least the same species\"\"\"\n",
    "    symbs = [str(atoms[mol_set].symbols) for mol_set in mol_sets]\n",
    "    cnt_mol = [symbs.count(k) for k in set(symbs)]\n",
    "    return set(symbs) == set([\"C2O2\", \"CNC2NC\"])\n",
    "\n",
    "def addADP(A, D, P, M, atoms):\n",
    "    \"\"\"append ADP assignment to atoms (for output)\"\"\"\n",
    "    from ase import Atoms\n",
    "    atoms = atoms.copy()\n",
    "    numbers = np.array([10]*A.shape[0] + [11]*D.shape[0] + [12]*P.shape[0] + [13]*P.shape[0])\n",
    "    positions = np.concatenate([A[:,1:], D[:,1:], P[:,0,1:], P[:,1,1:]])\n",
    "    atoms += Atoms(numbers, positions=positions)\n",
    "    return atoms\n",
    "\n",
    "def atoms2adp(atoms, build_2nd=False, build_3rd=False, check=True, idx=None):\n",
    "    natoms = len(atoms)\n",
    "    (heavy,) = np.where(atoms.numbers != 1)\n",
    "    (hydro,) = np.where(atoms.numbers == 1)\n",
    "    (nitro,) = np.where(atoms.numbers == 7)\n",
    "    (oxyge,) = np.where(atoms.numbers == 8)\n",
    "    O_act = oxyge # all oxygen are active\n",
    "    heavy2r = {k:i for i,k in enumerate(heavy)}\n",
    "    \n",
    "    h_rc = 6 if build_3rd else 4\n",
    "    \n",
    "    cutoff = {\n",
    "      (\"H\", \"C\"): 2,\n",
    "      (\"H\", \"N\"): h_rc,\n",
    "      (\"H\", \"O\"): h_rc,\n",
    "      (\"C\", \"C\"): 2,\n",
    "      (\"C\", \"N\"): 2,\n",
    "      (\"C\", \"O\"): 2,\n",
    "    }\n",
    "    \n",
    "    nl_i, nl_j, nl_d = neighborlist.neighbor_list(\"ijd\", atoms, cutoff, self_interaction=False)\n",
    "    conMat = sparse.dok_matrix((natoms, natoms), dtype=np.int8)\n",
    "    conMat[nl_i, nl_j] = 1  # we have several running indices here prefixed by (nl, mol, h)\n",
    "    conMat[nl_j, nl_i] = 1  # v---- adapted from the ASE documentation\n",
    "    \n",
    "    # -- recognition of overall scafold (heavy atom networks)\n",
    "    n_mol, mol_assign = sparse.csgraph.connected_components(conMat[heavy, :][:, heavy])\n",
    "    \n",
    "    cell = atoms.cell.diagonal()\n",
    "    new_positions = atoms.positions.copy()\n",
    "    for mol_i in range(n_mol):\n",
    "        heavy_atoms = atoms[heavy]\n",
    "        pos_mol = heavy_atoms.positions[mol_assign==mol_i]\n",
    "        mass_mol = heavy_atoms.get_masses()[mol_assign==mol_i]\n",
    "        pos_mol -= np.rint((pos_mol-pos_mol[:1,:])/cell[None,:])*cell[None,:]\n",
    "        com_mol = mass_mol@pos_mol/(mass_mol.sum())\n",
    "        pos_mol -= np.rint(com_mol/cell[None,:]-0.5)*cell[None,:]\n",
    "        new_positions[heavy[mol_assign==mol_i]] = pos_mol\n",
    "    atoms.set_positions(new_positions)\n",
    "\n",
    "    mol_sets = [heavy[mol_assign == mol_i] for mol_i in range(n_mol)]\n",
    "    CN_N = np.squeeze(np.asarray(conMat[nitro, :][:, heavy].sum(axis=1))) \n",
    "    N_act = nitro[CN_N==2]\n",
    "    ALL_act = np.concatenate([O_act, N_act])\n",
    "    mol_acts = [np.intersect1d(mol_set, ALL_act) for mol_set in mol_sets]\n",
    "    if check: assert check_mols(mol_sets), str(mol_sets)\n",
    "    \n",
    "    # -- zeros pass, tag active protons: \n",
    "    sel0 = [np.where(nl_i == h_ia)[0] for h_ia in hydro]\n",
    "    h_n0a = np.array([nl_j[_sel][np.argmin(nl_d[_sel])] for _sel in sel0])\n",
    "    H_act = hydro[np.in1d(h_n0a, ALL_act)]\n",
    "    if check: assert len(H_act)==32\n",
    "    \n",
    "    \n",
    "    if not build_2nd:\n",
    "        return H_act\n",
    "    # -- first pass, tag D(oners)\n",
    "    sel1 = [np.where(nl_i == h_ia)[0] for h_ia in H_act]\n",
    "    h_n1a = np.array([nl_j[_sel][np.argmin(nl_d[_sel])] for _sel in sel1])\n",
    "    h_n1e = atoms.numbers[h_n1a]\n",
    "    h_n1d = np.array([nl_d[_sel][np.argmin(nl_d[_sel])] for _sel in sel1])\n",
    "    D_mol = np.array([mol_assign[heavy2r[n1a]] for n1a in h_n1a])\n",
    "    h_act1 = [mol_acts[_di] for _di in D_mol]\n",
    "    D = np.concatenate([np.array(D_mol)[:,None], atoms.positions[h_n1a]], axis=1)\n",
    "    A_mol = np.setdiff1d(np.arange(n_mol), D_mol)\n",
    "    A = np.concatenate([np.array(A_mol)[:,None], [atoms.positions[mol_acts[a]].mean(axis=0)\n",
    "                                                  for a in A_mol]], axis=1)\n",
    "    if check and A_mol.shape[0]!=32: print(f'Double Proton Found @ {idx}')\n",
    "    \n",
    "    # -- second pass, make candidate neighbor for A\n",
    "    sel2 = [_sel[~np.in1d(nl_j[_sel], _act)] for _sel, _act in zip(sel1, h_act1)]\n",
    "    h_n2a = np.array([nl_j[_sel][np.argmin(nl_d[_sel])] for _sel in sel2])\n",
    "    h_n2d = np.array([nl_d[_sel][np.argmin(nl_d[_sel])] for _sel in sel2])\n",
    "    ANL = {a: [] for a in A_mol}\n",
    "    for di, n2a, n2d in zip(D_mol, h_n2a, h_n2d):\n",
    "        a = mol_assign[heavy2r[n2a]]\n",
    "        if a in A_mol:\n",
    "            ANL[a].append((di, n2d))\n",
    "    \n",
    "    P = [] \n",
    "    for a in A_mol:\n",
    "        if ANL[a]:\n",
    "            d = ANL[a][np.argmin([tmp[1] for tmp in ANL[a]])][0]\n",
    "            P.append(np.concatenate([D[D_mol==d],A[A_mol==a]]))\n",
    "            D = D[D_mol!=d]\n",
    "            A = A[A_mol!=a]\n",
    "            D_mol = D_mol[D_mol!=d]\n",
    "            A_mol = A_mol[A_mol!=a]\n",
    "    P = np.array(P)\n",
    "    if not build_3rd:\n",
    "        return A, D, P, mol_sets\n",
    "\n",
    "atoms = traj[0]\n",
    "H_act = atoms2adp(atoms, check=False)"
   ]
  },
  {
   "cell_type": "code",
   "execution_count": 77,
   "id": "f0c3fec4-0d7d-440b-bfc9-f2081e7e2f3c",
   "metadata": {},
   "outputs": [],
   "source": [
    "ds = load_ds([\n",
    "    '../trajs/cp2k/nvt-scan-20-22ps/hoac-c1im-a32b32i0-rho1.0753/cp2k-md',\n",
    "    '../trajs/cp2k/nvt-scan-22-24ps/hoac-c1im-a32b32i0-rho1.0753/cp2k-md',\n",
    "    '../trajs/cp2k/nvt-scan-24-26ps/hoac-c1im-a32b32i0-rho1.0753/cp2k-md',\n",
    "    '../trajs/cp2k/nvt-scan-26-28ps/hoac-c1im-a32b32i0-rho1.0753/cp2k-md'],\n",
    "    fmt='cp2k')"
   ]
  },
  {
   "cell_type": "code",
   "execution_count": 74,
   "id": "2808effe-f4f1-43b8-9300-bcd045e44144",
   "metadata": {},
   "outputs": [
    {
     "data": {
      "text/plain": [
       "\u001b[0;31mSignature:\u001b[0m \u001b[0mload_ds\u001b[0m\u001b[0;34m(\u001b[0m\u001b[0;34m*\u001b[0m\u001b[0margs\u001b[0m\u001b[0;34m,\u001b[0m \u001b[0mfmt\u001b[0m\u001b[0;34m=\u001b[0m\u001b[0;34m'auto'\u001b[0m\u001b[0;34m,\u001b[0m \u001b[0;34m**\u001b[0m\u001b[0mkwargs\u001b[0m\u001b[0;34m)\u001b[0m\u001b[0;34m\u001b[0m\u001b[0;34m\u001b[0m\u001b[0m\n",
       "\u001b[0;31mDocstring:\u001b[0m <no docstring>\n",
       "\u001b[0;31mSource:\u001b[0m   \n",
       "\u001b[0;32mdef\u001b[0m \u001b[0mload_ds\u001b[0m\u001b[0;34m(\u001b[0m\u001b[0;34m*\u001b[0m\u001b[0margs\u001b[0m\u001b[0;34m,\u001b[0m \u001b[0mfmt\u001b[0m\u001b[0;34m=\u001b[0m\u001b[0;34m'auto'\u001b[0m\u001b[0;34m,\u001b[0m \u001b[0;34m**\u001b[0m\u001b[0mkwargs\u001b[0m\u001b[0;34m)\u001b[0m\u001b[0;34m:\u001b[0m\u001b[0;34m\u001b[0m\n",
       "\u001b[0;34m\u001b[0m    \u001b[0;32mif\u001b[0m \u001b[0mfmt\u001b[0m \u001b[0;32min\u001b[0m \u001b[0mloaders\u001b[0m\u001b[0;34m:\u001b[0m\u001b[0;34m\u001b[0m\n",
       "\u001b[0;34m\u001b[0m        \u001b[0;32mreturn\u001b[0m \u001b[0mloaders\u001b[0m\u001b[0;34m[\u001b[0m\u001b[0mfmt\u001b[0m\u001b[0;34m]\u001b[0m\u001b[0;34m(\u001b[0m\u001b[0;34m*\u001b[0m\u001b[0margs\u001b[0m\u001b[0;34m,\u001b[0m \u001b[0;34m**\u001b[0m\u001b[0mkwargs\u001b[0m\u001b[0;34m)\u001b[0m\u001b[0;34m\u001b[0m\n",
       "\u001b[0;34m\u001b[0m    \u001b[0;32melse\u001b[0m\u001b[0;34m:\u001b[0m\u001b[0;34m\u001b[0m\n",
       "\u001b[0;34m\u001b[0m        \u001b[0;32mraise\u001b[0m \u001b[0mNotImplementedError\u001b[0m\u001b[0;34m(\u001b[0m\u001b[0;34mf'unknown format \"{fmt}\"'\u001b[0m\u001b[0;34m)\u001b[0m\u001b[0;34m\u001b[0m\u001b[0;34m\u001b[0m\u001b[0m\n",
       "\u001b[0;31mFile:\u001b[0m      ~/proj_pinn/pt_pils/tips/python/tips/io/__init__.py\n",
       "\u001b[0;31mType:\u001b[0m      function\n"
      ]
     },
     "metadata": {},
     "output_type": "display_data"
    }
   ],
   "source": [
    "??load_ds"
   ]
  },
  {
   "cell_type": "code",
   "execution_count": 85,
   "id": "3c9ba307-3ab4-4c5b-b575-94a64bba42e2",
   "metadata": {},
   "outputs": [],
   "source": [
    "traj = ds[::20].convert(fmt='ase')"
   ]
  },
  {
   "cell_type": "code",
   "execution_count": 79,
   "id": "4adbe1d5-8c70-4367-b8b0-6e1106661968",
   "metadata": {},
   "outputs": [
    {
     "name": "stdout",
     "output_type": "stream",
     "text": [
      "     640\n",
      " i =   140001, time =    70000.500, E =     -2945.0358405597\n",
      "  C        27.4610539126       10.2303248378        9.1851351814\n",
      "  C        26.0244668774        9.9389625755        9.4461153274\n",
      "  O        25.2514906522        9.4776192953        8.5855098997\n",
      "  O        25.6901127964       10.4202809469       10.6732848173\n",
      "  H        24.6477078699       10.6127118415       10.8152543258\n",
      "  H        27.9990521897        9.6210313765        8.4413103345\n",
      "  H        28.0858834327       10.3037636399       10.0916696371\n",
      "  H        27.3712419161       11.1827259238        8.6141879764\n"
     ]
    }
   ],
   "source": [
    "!head ../trajs/cp2k/nvt-70-80ps/hoac-c1im-a32b32i0-rho1.0753/cp2k-md-pos-1.xyz"
   ]
  },
  {
   "cell_type": "code",
   "execution_count": 83,
   "id": "2bae421b-fcd6-4ba0-82cb-e53df12604aa",
   "metadata": {},
   "outputs": [],
   "source": [
    "def first_oac(atoms):\n",
    "    natoms = len(atoms)\n",
    "    (heavy,) = np.where(atoms.numbers != 1)\n",
    "    (hydro,) = np.where(atoms.numbers == 1)\n",
    "    (nitro,) = np.where(atoms.numbers == 7)\n",
    "    (oxyge,) = np.where(atoms.numbers == 8)\n",
    "    O_act = oxyge # all oxygen are active\n",
    "    heavy2r = {k:i for i,k in enumerate(heavy)}\n",
    "    h_rc = 2\n",
    "    cutoff = {\n",
    "      (\"H\", \"C\"): 2,\n",
    "      (\"H\", \"N\"): h_rc,\n",
    "      (\"H\", \"O\"): h_rc,\n",
    "      (\"C\", \"C\"): 2,\n",
    "      (\"C\", \"N\"): 2,\n",
    "      (\"C\", \"O\"): 2,\n",
    "    }\n",
    "    nl_i, nl_j, nl_d = neighborlist.neighbor_list(\"ijd\", atoms, cutoff, self_interaction=False)\n",
    "    all_j = np.array(list(set(nl_j[np.in1d(nl_i,heavy[:4])])))\n",
    "    return atoms[all_j]"
   ]
  },
  {
   "cell_type": "code",
   "execution_count": 86,
   "id": "e14be67f-4023-4e66-bd41-049b558198ab",
   "metadata": {},
   "outputs": [
    {
     "data": {
      "application/vnd.jupyter.widget-view+json": {
       "model_id": "c3ff9da9d6fb41e093cc8f37516bcf7d",
       "version_major": 2,
       "version_minor": 0
      },
      "text/plain": [
       "  0%|          | 0/800 [00:00<?, ?it/s]"
      ]
     },
     "metadata": {},
     "output_type": "display_data"
    },
    {
     "name": "stdout",
     "output_type": "stream",
     "text": [
      "8"
     ]
    }
   ],
   "source": [
    "oac_traj = []\n",
    "for atoms in tqdm(traj):\n",
    "    oac = first_oac(atoms)\n",
    "    oac.center()\n",
    "    oac.positions-=oac.positions[1:2,:]\n",
    "    oac.positions-=np.rint(oac.positions/oac.cell[0,0])*oac.cell[0,0]\n",
    "    oac.rotate(oac.positions[1]-oac.positions[0],(1,0,0))\n",
    "    oac.rotate(oac.positions[3]-oac.positions[2],(0,1,0))\n",
    "    oac.rotate(oac.positions[1]-oac.positions[0],(1,0,0))\n",
    "    print(f'\\r{len(oac)}', end='')\n",
    "    oac_traj.append(oac)\n",
    "write('oac.xyz', oac_traj)"
   ]
  },
  {
   "cell_type": "code",
   "execution_count": 52,
   "id": "8a057fd4-a274-4bfa-a373-75196df0caf4",
   "metadata": {},
   "outputs": [],
   "source": [
    "from ase.io import write\n"
   ]
  },
  {
   "cell_type": "code",
   "execution_count": 894,
   "id": "bd089221-7024-49bd-a8fe-11e7e186cb36",
   "metadata": {},
   "outputs": [
    {
     "data": {
      "application/vnd.jupyter.widget-view+json": {
       "model_id": "48b1334cfcc74bbcb7715965c9dda4ea",
       "version_major": 2,
       "version_minor": 0
      },
      "text/plain": [
       "  0%|          | 0/100 [00:00<?, ?it/s]"
      ]
     },
     "metadata": {},
     "output_type": "display_data"
    }
   ],
   "source": [
    "# traj = read('../trajs/al-adam1-sin-run1-gen31/m32i0-r1.08/asemd.traj', index='::100')\n",
    "pos = []\n",
    "all_pos = []\n",
    "for atoms in tqdm(traj):\n",
    "    cell = atoms.cell.diagonal()\n",
    "    H_act = atoms2adp(atoms, check=False)\n",
    "    new_pos = atoms.positions[H_act]\n",
    "    if not pos:\n",
    "        pos.append(new_pos)\n",
    "        all_pos.append(atoms.positions)\n",
    "        H_act_old = H_act\n",
    "        continue\n",
    "    assert (H_act == H_act_old).all()\n",
    "    dpos = new_pos-pos[-1]\n",
    "    dall_pos = atoms.positions-all_pos[-1]\n",
    "    pos.append(pos[-1]+dpos-np.rint(dpos/cell[None,:])*cell[None,:])\n",
    "    all_pos.append(all_pos[-1]+dall_pos-np.rint(dall_pos/cell[None,:])*cell[None,:])\n",
    "pos = np.array(pos)\n",
    "all_pos = np.array(all_pos)\n",
    "com = np.einsum('tax,a->tx', all_pos, atoms.get_masses())/atoms.get_masses().sum()\n",
    "pos = pos-com[:,None,:]"
   ]
  },
  {
   "cell_type": "code",
   "execution_count": 898,
   "id": "786e37f5-be42-48d7-8576-848a1bfae45a",
   "metadata": {},
   "outputs": [
    {
     "name": "stderr",
     "output_type": "stream",
     "text": [
      "/home/yunqi/.miniconda/envs/pinn-tf2/lib/python3.9/site-packages/numpy/core/fromnumeric.py:3474: RuntimeWarning: Mean of empty slice.\n",
      "  return _methods._mean(a, axis=axis, dtype=dtype,\n",
      "/home/yunqi/.miniconda/envs/pinn-tf2/lib/python3.9/site-packages/numpy/core/_methods.py:189: RuntimeWarning: invalid value encountered in double_scalars\n",
      "  ret = ret.dtype.type(ret / rcount)\n"
     ]
    },
    {
     "data": {
      "text/plain": [
       "[<matplotlib.lines.Line2D at 0x7fcdea91a0a0>]"
      ]
     },
     "execution_count": 898,
     "metadata": {},
     "output_type": "execute_result"
    },
    {
     "data": {
      "image/png": "[encoded data removed]",
      "text/plain": [
       "<Figure size 432x288 with 1 Axes>"
      ]
     },
     "metadata": {
      "needs_background": "light"
     },
     "output_type": "display_data"
    }
   ],
   "source": [
    "msd = []\n",
    "maxdt = 100\n",
    "for dt in range(1,maxdt+1):\n",
    "    msd.append(np.mean(np.sum((pos[dt:]-pos[:-dt])**2, axis=-1)))\n",
    "plt.plot(np.arange(1,maxdt+1)/10, msd)\n",
    "plt.axis('equal')\n",
    "plt.xscale('log')\n",
    "plt.yscale('log')\n",
    "d = 0.02\n",
    "plt.plot([100,1000],[100*d, 1000*d], 'k:', lw=1)"
   ]
  },
  {
   "cell_type": "code",
   "execution_count": 845,
   "id": "88788cd7-40c1-44bc-8491-9ea9cd4df18a",
   "metadata": {},
   "outputs": [],
   "source": [
    "traj = ds[::2000].convert(fmt='ase')"
   ]
  },
  {
   "cell_type": "code",
   "execution_count": 882,
   "id": "9036c633-710e-4583-8bdf-ad6b18e7505c",
   "metadata": {},
   "outputs": [
    {
     "name": "stdout",
     "output_type": "stream",
     "text": [
      "10\n",
      "0-- A7, D3\n",
      "1-- A7, D3\n",
      "{60.0},{57.0, 20.0} -> {60.0, 20.0}, {57.0}\n",
      "{7.0},{32.0, 3.0} -> {32.0, 7.0}, {3.0}\n",
      "-{43.0, 5.0}\n",
      "2-- A8, D4\n",
      "{57.0},{60.0, 20.0} -> {57.0, 20.0}, {60.0}\n",
      "{3.0},{32.0, 7.0} -> {32.0, 3.0}, {7.0}\n",
      "+{43.0, 5.0}\n",
      "3-- A7, D3\n",
      "-{17.0, 47.0}\n",
      "4-- A8, D4\n",
      "{7.0},{32.0, 3.0} -> {32.0, 7.0}, {3.0}\n",
      "+{17.0, 47.0}\n",
      "5-- A7, D3\n",
      "{60.0},{57.0, 20.0} -> {60.0, 20.0}, {57.0}\n",
      "{38.0},{50.0, 30.0} -> {38.0, 30.0}, {50.0}\n",
      "{3.0},{32.0, 7.0} -> {32.0, 3.0}, {7.0}\n",
      "6-- A7, D3\n",
      "{57.0},{60.0, 20.0} -> {57.0, 20.0}, {60.0}\n",
      "{50.0},{38.0, 30.0} -> {50.0, 30.0}, {38.0}\n",
      "-{16.0, 46.0}\n",
      "7-- A8, D4\n",
      "{60.0},{57.0, 20.0} -> {60.0, 20.0}, {57.0}\n",
      "+{16.0, 46.0}\n",
      "-{36.0, 21.0}\n",
      "8-- A8, D4\n",
      "{57.0},{60.0, 20.0} -> {57.0, 20.0}, {60.0}\n",
      "+{36.0, 21.0}\n",
      "9-- A7, D3\n"
     ]
    }
   ],
   "source": [
    "traj = read('../a_defect.traj', index='90000:100000:1000')\n",
    "print(len(traj))\n",
    "A_prev, D_prev, P_prev, M_prev, A_idx_prev, D_idx_prev, P_idx_prev = [None]*7\n",
    "for i, atoms in enumerate(traj):\n",
    "    assert (M_prev is None) or (M==M_prev), f\"{M}!={M_prev}\"\n",
    "    A, D, P, M = atoms2adp(atoms, check=False, build_2nd=True)\n",
    "    \n",
    "    A_set, D_set, P_set = A[:,0], D[:,0], [set(p) for p in P[:,:,0]]\n",
    "    A_idx, D_idx, P_idx = trackAD(A_set, D_set, P_set, \n",
    "                                  A_prev, D_prev, P_prev,\n",
    "                                  A_idx_prev, D_idx_prev, P_idx_prev)\n",
    "    \n",
    "    A_prev, D_prev, P_prev, M_prev = A, D, P, M\n",
    "    A_idx_prev, D_idx_prev, P_idx_prev = A_idx, D_idx, P_idx\n",
    "    print(f'{i}-- A{A_idx_prev.shape[0]}, D{D_idx_prev.shape[0]}')"
   ]
  },
  {
   "cell_type": "code",
   "execution_count": 880,
   "id": "fe75d24a-78de-4c4d-b8bb-2fc0f3fb9bdd",
   "metadata": {},
   "outputs": [
    {
     "data": {
      "text/plain": [
       "array([48, 49, 50, 51])"
      ]
     },
     "execution_count": 880,
     "metadata": {},
     "output_type": "execute_result"
    }
   ],
   "source": [
    "M_prev[4]"
   ]
  },
  {
   "cell_type": "code",
   "execution_count": 868,
   "id": "17c6bfa3-e94b-4c38-9541-87f6940f4772",
   "metadata": {},
   "outputs": [],
   "source": [
    "def trackAD(A_set, D_set, P_set,\n",
    "            A_prev, D_prev, P_prev, \n",
    "            A_idx_prev, D_idx_prev, P_idx_prev):\n",
    "    if A_prev is None:\n",
    "        # make inital assignment\n",
    "        A_idx = np.arange(len(A_set), dtype=int)\n",
    "        D_idx = np.arange(len(D_set), dtype=int)\n",
    "        P_idx = np.array([np.arange(len(A_set),len(A_set)+len(P_set), dtype=int),\n",
    "                          np.arange(len(D_set),len(D_set)+len(P_set), dtype=int)]).T\n",
    "        return A_idx, D_idx, P_idx\n",
    "    \n",
    "    A_prev, D_prev, P_prev = A_prev[:,0], D_prev[:,0], [set(p) for p in P_prev[:,:,0]]\n",
    "    # convert A,D,P to sets of mols\n",
    "    \n",
    "    A_idx = np.zeros(len(A_set), dtype=int)\n",
    "    D_idx = np.zeros(len(D_set), dtype=int)\n",
    "    P_idx = np.zeros([len(P_set), 2], dtype=int)\n",
    "    for i, p in enumerate(P_set):\n",
    "        if p in P_prev:\n",
    "            continue\n",
    "            P_idx[i,:] = P_idx_prev[i,:]\n",
    "        else:\n",
    "            intersection = [bool(p.intersection(_p)) for _p in P_prev]\n",
    "            if sum(intersection)==1:\n",
    "                # XP -> PY\n",
    "                p_prev = P_prev[np.where(intersection)[0][0]]\n",
    "                X = p - p_prev\n",
    "                Y = p_prev - p\n",
    "                print(f'{X},{p_prev} -> {p}, {Y}')\n",
    "            elif sum(intersection)==0:\n",
    "                # P -> AD\n",
    "                print(f'+{p}')\n",
    "                pass\n",
    "            else:\n",
    "                print(A_prev, D_prev, P_prev)\n",
    "                print(A_set, D_set, P_set)\n",
    "                raise NotImplementedError(f'Cannot resolve the HB pair {p}') \n",
    "    for i, p in enumerate(P_prev):\n",
    "        intersection = [bool(p.intersection(_p)) for _p in P_set]\n",
    "        if sum(intersection)==0:\n",
    "            # P -> AD\n",
    "            print(f'-{p}')\n",
    "    return A_idx, D_idx, P_idx"
   ]
  },
  {
   "cell_type": "code",
   "execution_count": 621,
   "id": "bad385de-e25d-490d-9992-c024799c9598",
   "metadata": {},
   "outputs": [],
   "source": [
    "ds = load_ds('../trajs/al-adam1-sin-run1-gen27/nvt-340k-1ns/m0i32-r1.16/asemd.traj',fmt='asetraj', index='::1000')"
   ]
  },
  {
   "cell_type": "code",
   "execution_count": 871,
   "id": "6dbbc881-2aea-4a49-81f3-f883a317f75f",
   "metadata": {},
   "outputs": [
    {
     "data": {
      "application/vnd.jupyter.widget-view+json": {
       "model_id": "cb7759c724e24881928139316e6a4c1b",
       "version_major": 2,
       "version_minor": 0
      },
      "text/plain": [
       "  0%|          | 0/10 [00:00<?, ?it/s]"
      ]
     },
     "metadata": {},
     "output_type": "display_data"
    }
   ],
   "source": [
    "#traj = ds.convert(fmt='ase')[:100\n",
    "from ase.io import read\n",
    "#traj = read('defect.traj', '::1000')  \n",
    "#traj = ds[::200].convert(fmt='ase')\n",
    "traj = read('../a_defect.traj', index='10000:20000:1000')\n",
    "traj_labelled = [addADP(*atoms2adp(atoms, check=False, build_2nd=True), atoms) for atoms in tqdm(traj)]"
   ]
  },
  {
   "cell_type": "code",
   "execution_count": 872,
   "id": "84e83da0-9f7b-4a1a-bfbc-2b59498bbc6a",
   "metadata": {},
   "outputs": [],
   "source": [
    "from ase.io import write\n",
    "write('labelled.xyz', traj_labelled)"
   ]
  },
  {
   "cell_type": "code",
   "execution_count": null,
   "id": "88411abd-0ce3-428c-a665-112b2f533ad4",
   "metadata": {},
   "outputs": [],
   "source": [
    "from tqdm.notebook import tqdm\n",
    "from ase import Atoms, neighborlist\n",
    "from scipy import sparse\n",
    "from tips.io import load_ds\n",
    "import numpy as np\n",
    "\n",
    "\n",
    "def datum2hist(datum):\n",
    "    atoms = Atoms(datum[\"elem\"], positions=datum[\"coord\"], cell=datum[\"cell\"], pbc=True)\n",
    "    natoms = len(atoms)\n",
    "    (heavy,) = np.where(atoms.numbers != 1)\n",
    "    (hydro,) = np.where(atoms.numbers == 1)\n",
    "    (nitro,) = np.where(atoms.numbers == 7)\n",
    "    (oxyge,) = np.where(atoms.numbers == 8)\n",
    "    O_act = oxyge # all oxygen are active\n",
    "    heavy2r = {k:i for i,k in enumerate(heavy)}\n",
    "    \n",
    "    cutoff = {\n",
    "      (\"H\", \"C\"): 2,\n",
    "      (\"H\", \"N\"): 3,\n",
    "      (\"H\", \"O\"): 3,\n",
    "      (\"C\", \"C\"): 2,\n",
    "      (\"C\", \"N\"): 2,\n",
    "      (\"C\", \"O\"): 2,\n",
    "    }\n",
    "    \n",
    "    \n",
    "    nl_i, nl_j, nl_d = neighborlist.neighbor_list(\"ijd\", atoms, cutoff, self_interaction=False)\n",
    "    conMat = sparse.dok_matrix((natoms, natoms), dtype=np.int8)\n",
    "    conMat[nl_i, nl_j] = 1  # we have several running indices here prefixed by (nl, mol, h)\n",
    "    conMat[nl_j, nl_i] = 1  # v---- shamelessly taken from the ASE documentation\n",
    "    \n",
    "    # -- recognition of overall scafold (heavy atom networks)\n",
    "    n_mol, mol_assign = sparse.csgraph.connected_components(conMat[heavy, :][:, heavy])\n",
    "    mol_sets = [heavy[mol_assign == mol_i] for mol_i in range(n_mol)]\n",
    "    #symbs = [str(atoms[mol_set].symbols) for mol_set in mol_sets]\n",
    "    #cnt_mol = [symbs.count(k) for k in set(symbs)]\n",
    "    #assert set(symbs) == set([\"C2O2\", \"CNC2NC\"]), f\"broken molecules: {set(symbs)}\"\n",
    "    #type_mol = np.array([\"N\" in symb for symb in symbs], int)\n",
    "\n",
    "    return\n",
    "    \n",
    "    # -- active atoms in each molecule\n",
    "    CN_N = np.squeeze(np.asarray(conMat[nitro, :][:, heavy].sum(axis=1))) \n",
    "    N_act = nitro[CN_N==2]\n",
    "    ALL_act = np.concatenate([O_act, N_act])\n",
    "    mol_acts = [np.intersect1d(mol_set, ALL_act) for mol_set in mol_sets]\n",
    "    # -- end of scafold recognition\n",
    "    \n",
    "    # -- recognition of HBs\n",
    "    # ---- step 0: find active hydrogen\n",
    "    sel0 = [np.where(nl_i == h_ia)[0] for h_ia in hydro]\n",
    "    h_n0a = np.array([nl_j[_sel][np.argmin(nl_d[_sel])] for _sel in sel0])\n",
    "    h_n0e = atoms.numbers[h_n0a]\n",
    "    # ----- step 1: first neighbor of active hydrogen \n",
    "    H_act = hydro[(h_n0e==8) | (h_n0e==7)]\n",
    "    sel1 = [np.where(nl_i == h_ia)[0] for h_ia in H_act]\n",
    "    h_n1a = np.array([nl_j[_sel][np.argmin(nl_d[_sel])] for _sel in sel1])\n",
    "    h_n1e = atoms.numbers[h_n1a]    \n",
    "    h_n1d = np.array([nl_d[_sel][np.argmin(nl_d[_sel])] for _sel in sel1])\n",
    "    h_act1 = [mol_acts[mol_assign[heavy2r[n1a]]] for n1a in h_n1a]\n",
    "    # -- second neighbors\n",
    "    sel2 = [_sel[~np.in1d(nl_j[_sel], _act)] for _sel, _act in zip(sel1, h_act1)]\n",
    "    h_n2a = np.array([nl_j[_sel][np.argmin(nl_d[_sel])] for _sel in sel2])\n",
    "    h_n2d = np.array([nl_d[_sel][np.argmin(nl_d[_sel])] for _sel in sel2])\n",
    "    h_n2e = atoms.numbers[h_n2a]\n",
    "    h_act2 = [np.concatenate([mol_acts[mol_assign[heavy2r[n2a]]],_act]) \n",
    "              for n2a, _act in zip(h_n2a, h_act1)]\n",
    "    # -- third neighbors\n",
    "    sel3 = [_sel[~np.in1d(nl_j[_sel], _act)] for _sel, _act in zip(sel2, h_act2)]\n",
    "    h_n3a = np.array([nl_j[_sel][np.argmin(nl_d[_sel])] for _sel in sel3])\n",
    "    h_n3d = np.array([nl_d[_sel][np.argmin(nl_d[_sel])] for _sel in sel3])\n",
    "    h_n3e = atoms.numbers[h_n3a]\n",
    "    h_act3 = [np.concatenate([mol_acts[mol_assign[heavy2r[n3a]]],_act]) \n",
    "              for n3a, _act in zip(h_n3a, h_act2)]\n",
    "    \n",
    "    # -- recognition of HB-ed specices (dimers/doners/acceptors)\n",
    "    mol_state = np.zeros(n_mol)\n",
    "    mol_rc = np.zeros([n_mol,2])\n",
    "    mol_h = np.zeros(n_mol, int) # the active hydrogen associated with mol \n",
    "    # -- first pass assign active H to first neigh.\n",
    "    for n1a in h_n1a:\n",
    "        mol_state[mol_assign[heavy2r[n1a]]] += 1\n",
    "    assert mol_state.max()==1\n",
    "    # --- second pass, assign second neigh. to D(onor) if it is A(cceptor), this defines P(airs)\n",
    "    p = []\n",
    "    for h_r, (n1a, n2a, n1d, n2d) in enumerate(zip(h_n1a, h_n2a,  h_n1d,  h_n2d)):\n",
    "        if ((mol_state[mol_assign[heavy2r[n1a]]]==1) and\n",
    "            (mol_state[mol_assign[heavy2r[n2a]]]==0)):\n",
    "            mol_state[mol_assign[heavy2r[n1a]]] = 2\n",
    "            mol_state[mol_assign[heavy2r[n2a]]] = 3\n",
    "            mol_rc[mol_assign[heavy2r[n1a]],:] = [n1d,n2d]\n",
    "            mol_rc[mol_assign[heavy2r[n2a]],:] = [n1d,n2d]\n",
    "            mol_h[mol_assign[heavy2r[n1a]]] = h_r\n",
    "            mol_h[mol_assign[heavy2r[n2a]]] = h_r\n",
    "            p.append(frozenset((mol_assign[heavy2r[n1a]],mol_assign[heavy2r[n2a]])))\n",
    "    # --- third pass, find reaction coordinates\n",
    "    rc1 = [] # D-H-P\n",
    "    rc2 = [] # A-P\n",
    "    rc3 = [] # D-H-P-P\n",
    "    for n1a, n2a, n3a, n1d, n2d, n3d in zip(h_n1a, h_n2a, h_n3a, h_n1d, h_n2d, h_n3d):\n",
    "        if ((mol_state[mol_assign[heavy2r[n1a]]]==1) and\n",
    "            (mol_state[mol_assign[heavy2r[n2a]]]>=2)):\n",
    "            _p1 = mol_assign[heavy2r[n2a]] # P1 is the second neighbor (mol) of the active H\n",
    "            _rc_p1 = mol_rc[_p1] # rc of the target (P) species\n",
    "            d1, d2 = _rc_p1.sum(), n2d+_rc_p1.min()\n",
    "            rc1.append([d1, d2]) # 2d reaction coord for D-H-P reaction \n",
    "            _h2 = mol_h[_p1]\n",
    "            _p2 = mol_assign[heavy2r[h_n3a[_h2]]]\n",
    "            if mol_state[_p2]>=2:\n",
    "                _rc_p2 = mol_rc[_p2]\n",
    "                d3, d4 = _rc_p2.max()+h_n3d[_h2], _rc_p2.sum()\n",
    "                rc3.append([d1-d2, d3-d4]) # 2d reaction coord for D-H-P reaction \n",
    "            \n",
    "        elif ((mol_state[mol_assign[heavy2r[n1a]]]>=2) and\n",
    "            (mol_state[mol_assign[heavy2r[n3a]]]==0)):\n",
    "            _p1 = mol_assign[heavy2r[n2a]] # P1 is the second neighbor (mol) of the active H\n",
    "            rc2.append([n1d+n2d, n1d+n3d]) # 2d reaction coord for A-P reaction\n",
    "            _h2 = mol_h[_p1]\n",
    "            for _p2 in np.where(np.in1d(h_n3d, h_n1a[_h2], h_n2a[_h2]))[0]:\n",
    "                # one of P1's pair is P2's H's third neighbor\n",
    "                print(_p2) # this rarely happens....\n",
    "    a = set(np.where(mol_state==0)[0])\n",
    "    d = set(np.where(mol_state==1)[0])\n",
    "    p = set(p)\n",
    "    return np.array(rc1), np.array(rc2), np.array(rc3), a, d, p\n",
    "\n",
    "nbins = 200\n",
    "bins = np.linspace(0,5,nbins+1)\n",
    "centers = (bins[1:]+bins[:-1])/2\n",
    "hist_n1d, hist_n2d, hist_n3d = np.zeros(nbins), np.zeros(nbins), np.zeros(nbins) \n",
    "hist_rc12 = np.zeros([nbins]*2)\n",
    "\n",
    "def adp_unwrap(a_prev, d_prev, p_prev, a, d, p):\n",
    "    msg = ''\n",
    "    if a_prev is None:\n",
    "        return a, d, p\n",
    "    if p-p_prev:\n",
    "        msg += f' [P+{\",\".join([str(tuple(_p)) for _p in  p-p_prev])}]'\n",
    "    if p_prev-p:\n",
    "        msg += f' [P-{\",\".join([str(tuple(_p)) for _p in  p_prev-p])}]'\n",
    "    if a-a_prev:\n",
    "        msg += f' [A+{\",\".join(map(str,a-a_prev))}]'\n",
    "    if a_prev-a:\n",
    "        msg += f' [A-{\",\".join(map(str,a_prev-a))}]'\n",
    "    if d-d_prev:\n",
    "        msg += f' [D+{\",\".join(map(str,d-d_prev))}]'\n",
    "    if d_prev-d:\n",
    "        msg += f' [D-{\",\".join(map(str,d_prev-d))}]'\n",
    "    all_bornp = set().union(*(p-p_prev))\n",
    "    all_deadp = set().union(*(p_prev-p))\n",
    "    all_deadad = (a_prev.union(d_prev)-a-d)\n",
    "    all_bornad = (a.union(d)-a_prev-d_prev)\n",
    "    event = False\n",
    "    for _p in p-p_prev: # formed pairs, try to resolve\n",
    "        if _p.issubset(all_deadad): # both are from previeous a/d\n",
    "            pass\n",
    "        elif len(_p - all_deadp)==1: # one of the pairs is not dead, stepwise reaction\n",
    "            pass\n",
    "        else:\n",
    "            print(_p, all_deadad)\n",
    "            event = True # concerted steps, be careful!\n",
    "    if msg and event:\n",
    "        print(f'{idx}:{msg}')\n",
    "        \n",
    "    a_prev, d_prev, p_prev = a, d, p\n",
    "    return a_prev, d_prev, p_prev\n",
    "\n",
    "\n",
    "rc1 = np.zeros([0,2])\n",
    "rc2 = np.zeros([0,2])\n",
    "rc3 = np.zeros([0,2])\n",
    "\n",
    "a_prev, d_prev, p_prev = None, None, None\n",
    "for idx, datum in tqdm(enumerate(ds), total=ds.meta['size']):\n",
    "    datum2hist(datum)\n",
    "    pass\n",
    "    # _rc1, _rc2, _rc3, a, d, p = datum2hist(datum)\n",
    "    # rc1 = np.concatenate([rc1, _rc1], axis=0)\n",
    "    # if len(_rc2):\n",
    "    #     rc2 = np.concatenate([rc2, _rc2], axis=0)\n",
    "    # if len(_rc3):\n",
    "    #     rc3 = np.concatenate([rc3, _rc3], axis=0)\n",
    "    # a_prev, d_prev, p_prev = adp_unwrap(a_prev, d_prev, p_prev, a, d, p)\n",
    "    \n",
    "    #hist_n1d += np.histogram(n1d,bins)[0]\n",
    "    #hist_n2d += np.histogram(n2d,bins)[0]    \n",
    "    #hist_n3d += np.histogram(n3d,bins)[0]  \n",
    "    # hist_rc12 += np.histogram2d(n1d+n2d, n1d+n3d, bins)[0]\n"
   ]
  },
  {
   "cell_type": "code",
   "execution_count": 324,
   "id": "daec69c0-0e77-4175-bee3-7349de54a457",
   "metadata": {},
   "outputs": [],
   "source": [
    "rc1 = rc1[:len(rc1)//2]"
   ]
  },
  {
   "cell_type": "code",
   "execution_count": 390,
   "id": "7b68fc34-450f-4f08-be2d-180e74a5cf7c",
   "metadata": {},
   "outputs": [
    {
     "data": {
      "text/plain": [
       "(0.0, 2.0)"
      ]
     },
     "execution_count": 390,
     "metadata": {},
     "output_type": "execute_result"
    },
    {
     "data": {
      "image/png": "[encoded data removed]",
      "text/plain": [
       "<Figure size 216x216 with 1 Axes>"
      ]
     },
     "metadata": {
      "needs_background": "light"
     },
     "output_type": "display_data"
    }
   ],
   "source": [
    "plt.figure(figsize=[3,3])\n",
    "plt.hist2d(rc3[:,0], rc3[:,1], 50);\n",
    "plt.ylim(0,2)\n",
    "#plt.plot([0,6],[0,6], 'w--')"
   ]
  },
  {
   "cell_type": "code",
   "execution_count": 815,
   "id": "77ee1455-a7d3-4768-a922-bb10f72d2009",
   "metadata": {},
   "outputs": [
    {
     "data": {
      "text/plain": [
       "[<matplotlib.lines.Line2D at 0x7fcdf5a5a8b0>]"
      ]
     },
     "execution_count": 815,
     "metadata": {},
     "output_type": "execute_result"
    },
    {
     "data": {
      "image/png": "[encoded data removed]",
      "text/plain": [
       "<Figure size 216x216 with 1 Axes>"
      ]
     },
     "metadata": {
      "needs_background": "light"
     },
     "output_type": "display_data"
    }
   ],
   "source": [
    "plt.figure(figsize=[3,3])\n",
    "plt.hist2d(rc2[:,0], rc2[:,1], 50);\n",
    "plt.xlim(2,5)\n",
    "plt.ylim(2,5)\n",
    "plt.plot([2,5],[2,5], 'k--')"
   ]
  },
  {
   "cell_type": "code",
   "execution_count": 370,
   "id": "ee126f0a-955c-4877-b84d-d61511a9cd29",
   "metadata": {},
   "outputs": [
    {
     "data": {
      "text/plain": [
       "[<matplotlib.lines.Line2D at 0x7fcdfb90f1f0>]"
      ]
     },
     "execution_count": 370,
     "metadata": {},
     "output_type": "execute_result"
    },
    {
     "data": {
      "image/png": "[encoded data removed]",
      "text/plain": [
       "<Figure size 216x216 with 1 Axes>"
      ]
     },
     "metadata": {
      "needs_background": "light"
     },
     "output_type": "display_data"
    }
   ],
   "source": [
    "plt.figure(figsize=[3,3])\n",
    "plt.hist2d(rc1[:,0], rc1[:,1], np.arange(2.2,3.2,0.04));\n",
    "plt.plot([0,3.2],[0,3.2], 'w--')\n"
   ]
  }
 ],
 "metadata": {
  "kernelspec": {
   "display_name": "pinn-tf2",
   "language": "python",
   "name": "pinn-tf2"
  },
  "language_info": {
   "codemirror_mode": {
    "name": "ipython",
    "version": 3
   },
   "file_extension": ".py",
   "mimetype": "text/x-python",
   "name": "python",
   "nbconvert_exporter": "python",
   "pygments_lexer": "ipython3",
   "version": "3.9.5"
  }
 },
 "nbformat": 4,
 "nbformat_minor": 5
}
