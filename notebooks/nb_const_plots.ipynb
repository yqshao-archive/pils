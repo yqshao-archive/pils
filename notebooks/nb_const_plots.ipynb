{
 "cells": [
  {
   "cell_type": "code",
   "execution_count": 96,
   "id": "fa12adbb-e551-470c-9cd6-d0dbb4336340",
   "metadata": {},
   "outputs": [],
   "source": [
    "%matplotlib inline\n",
    "import os, re\n",
    "import numpy as np\n",
    "import matplotlib.pyplot as plt\n",
    "from glob import glob\n",
    "\n",
    "systems = glob('../tmp/analyses/prod/*')\n",
    "\n",
    "rho = 1.0753e3\n",
    "NA = 6.022e23\n",
    "MW = (60.052 + 82.10) * 1e-3\n",
    "q = 1.602176634e-19\n",
    "T = 340\n",
    "kB = 1.380649e-23\n",
    "ne_fac = rho / MW * q**2 / (kB * T) * NA * 10 * 1e-10\n",
    "gk_fac = rho / MW * q**2 / (kB * T) * NA * 10 / 32 * 1e-10\n",
    "d = lambda msd, idx: msd[1000, idx]/msd[1000, 0]/6*100\n",
    "\n",
    "result = {}\n",
    "for sys in sorted(systems):\n",
    "    name = os.path.basename(sys)\n",
    "    msd = np.load(f\"{sys}/msd-0-5ns/msd.npy\")\n",
    "    pmsd = np.load(f\"{sys}/msd-0-5ns/pmsd.npy\")\n",
    "    d_all=[d(msd,1), d(msd,2), d(msd,3), d(pmsd, 1)]\n",
    "    frac = float(re.search('\\d+k-(.*)-\\d+', name).group(1))\n",
    "    if frac not in result:\n",
    "        result[frac]=[d_all]\n",
    "    else:\n",
    "        result[frac].append(d_all)\n",
    "\n",
    "conc = np.array(sorted(result.keys()))\n",
    "result = np.array([result[c] for c in conc])\n",
    "sigma = result[:,:,3]*gk_fac\n",
    "delta = 1-sigma/(result[:,:,1]+ result[:,:,0])*ne_fac"
   ]
  },
  {
   "cell_type": "code",
   "execution_count": 135,
   "id": "e32affb9-0d21-4f5e-94b0-11dff8bb5e3c",
   "metadata": {},
   "outputs": [
    {
     "data": {
      "text/plain": [
       "8.583456370264242"
      ]
     },
     "execution_count": 135,
     "metadata": {},
     "output_type": "execute_result"
    }
   ],
   "source": [
    "np.average(sigma.mean(axis=1),weights=np.array(ratio_conc)[which])"
   ]
  },
  {
   "cell_type": "code",
   "execution_count": 124,
   "id": "47189028-cb51-49ea-b61f-b8e23cc67f39",
   "metadata": {},
   "outputs": [],
   "source": [
    "sigma = result[:,:,3]*gk_fac\n",
    "delta = 1-result[:,:,3]*gk_fac/((result[:,:,1]+result[:,:,0])*ne_fac)\n"
   ]
  },
  {
   "cell_type": "code",
   "execution_count": 130,
   "id": "d80caceb-8947-4999-9911-ef9b5ece3302",
   "metadata": {},
   "outputs": [
    {
     "data": {
      "image/png": "[encoded data removed]",
      "text/plain": [
       "<Figure size 288x432 with 3 Axes>"
      ]
     },
     "metadata": {
      "needs_background": "light"
     },
     "output_type": "display_data"
    }
   ],
   "source": [
    "f, axs = plt.subplots(3,1, figsize=[4,6], sharex=True,gridspec_kw={'hspace':0})\n",
    "axs[0].errorbar(conc, sigma.mean(axis=1), sigma.std(axis=1), marker='o')\n",
    "axs[1].errorbar(conc, 1-delta.mean(axis=1), delta.std(axis=1), marker='o')\n",
    "axs[2].bar(np.array(ratio_conc)[which], ratio_cnt[which], width=0.01)\n",
    "axs[0].plot([conc[0],conc[-1]],[9,9])\n",
    "axs[1].plot([conc[0],conc[-1]],[0.1,0.1])\n",
    "axs[0].set_ylabel('$\\sigma_{GK}[mS/cm]$')\n",
    "axs[1].set_ylabel('Ionicity: $1-\\Delta$')\n",
    "axs[2].set_ylabel('Count in \\n Unconstrained')\n",
    "axs[2].set_xlabel('Unpaired ratio')\n",
    "axs[0].set_title('Constrained MD, NVT at 300K')\n",
    "plt.savefig('constrained.pdf')"
   ]
  },
  {
   "cell_type": "code",
   "execution_count": 80,
   "id": "05fa7c4a-675e-4b64-bfc0-a6dd03c564fc",
   "metadata": {},
   "outputs": [
    {
     "data": {
      "text/plain": [
       "array([0.15625, 0.1875 , 0.21875, 0.25   , 0.28125])"
      ]
     },
     "execution_count": 80,
     "metadata": {},
     "output_type": "execute_result"
    }
   ],
   "source": [
    "np.array(ratio_conc)[which]"
   ]
  },
  {
   "cell_type": "code",
   "execution_count": null,
   "id": "1794e02d-bfec-4c9d-8d68-11a9db0be7d6",
   "metadata": {},
   "outputs": [],
   "source": [
    "from ase.io import read, write\n",
    "from lib.topo import mkconst\n",
    "lastns = read('../exp/scan/prod/gen49/nvt-300k-5ns-0/a16b16i16-r1.08/asemd.traj', index='40001::10')\n",
    "ratio_cnt = {}\n",
    "for i, atoms in enumerate(lastns):\n",
    "    atoms, ratio = mkconst(atoms)\n",
    "    if ratio in ratio_cnt:\n",
    "        ratio_cnt[ratio]+=1\n",
    "    else:\n",
    "        ratio_cnt[ratio]=1\n",
    "ratio_conc = sorted(ratio_cnt.keys())\n",
    "ratio_cnt = np.array([ratio_cnt[c] for c in sorted(ratio_cnt.keys())])\n",
    "which = (0.15<np.array(ratio_conc)) & (np.array(ratio_conc)<0.3)"
   ]
  },
  {
   "cell_type": "code",
   "execution_count": 68,
   "id": "e1687a97-e000-4fb0-a64c-9b506b8b42a5",
   "metadata": {},
   "outputs": [
    {
     "name": "stdout",
     "output_type": "stream",
     "text": [
      "temperature 340, H 0.10(0.04), O 0.12(0.04), N 0.12(0.06), GK 0.70(0.38), Dleta 0.87(0.06)\n",
      "temperature 380, H 0.43(0.12), O 0.46(0.12), N 0.48(0.14), GK 1.97(1.32), Dleta 0.91(0.06)\n",
      "temperature 450, H 1.79(0.33), O 1.90(0.34), N 1.95(0.23), GK 14.34(13.56), Dleta 0.85(0.16)\n"
     ]
    }
   ],
   "source": [
    "for k,v in sigma.items():\n",
    "    print(f'temperature {k}, '\n",
    "          f'H {np.mean(v[3]):.2f}({np.std(v[3]):.2f}), '\n",
    "          f'O {np.mean(v[4]):.2f}({np.std(v[4]):.2f}), '\n",
    "          f'N {np.mean(v[5]):.2f}({np.std(v[5]):.2f}), '\n",
    "          f'GK {np.mean(v[2]):.2f}({np.std(v[2]):.2f}), '\n",
    "          f'Dleta {np.mean(v[1]):.2f}({np.std(v[1]):.2f})')"
   ]
  },
  {
   "cell_type": "code",
   "execution_count": 69,
   "id": "0f6c506b-0717-46f2-baec-bf89ee24dc7b",
   "metadata": {},
   "outputs": [
    {
     "data": {
      "text/plain": [
       "<matplotlib.collections.PathCollection at 0x7f752545da10>"
      ]
     },
     "execution_count": 69,
     "metadata": {},
     "output_type": "execute_result"
    },
    {
     "data": {
      "image/png": "[encoded data removed]",
      "text/plain": [
       "<Figure size 432x288 with 1 Axes>"
      ]
     },
     "metadata": {
      "needs_background": "light"
     },
     "output_type": "display_data"
    }
   ],
   "source": [
    "plt.scatter(sigma[340][0], sigma[340][2])\n",
    "plt.scatter(sigma[380][0], sigma[380][2])\n",
    "plt.scatter(sigma[450][0], sigma[450][2])\n"
   ]
  }
 ],
 "metadata": {
  "kernelspec": {
   "display_name": "Python3",
   "language": "python",
   "name": "python3"
  },
  "language_info": {
   "codemirror_mode": {
    "name": "ipython",
    "version": 3
   },
   "file_extension": ".py",
   "mimetype": "text/x-python",
   "name": "python",
   "nbconvert_exporter": "python",
   "pygments_lexer": "ipython3",
   "version": "3.9.7"
  }
 },
 "nbformat": 4,
 "nbformat_minor": 5
}
