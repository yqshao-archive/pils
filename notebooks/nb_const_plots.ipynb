{
 "cells": [
  {
   "cell_type": "code",
   "execution_count": 66,
   "id": "fa12adbb-e551-470c-9cd6-d0dbb4336340",
   "metadata": {},
   "outputs": [],
   "source": [
    "%matplotlib inline\n",
    "import os, re\n",
    "import numpy as np\n",
    "import matplotlib.pyplot as plt\n",
    "from glob import glob\n",
    "\n",
    "systems = glob('../exp/transfer/analyses/const/constmd/*')\n",
    "\n",
    "rho = 1.0753e3\n",
    "NA = 6.022e23\n",
    "MW = (60.052 + 82.10) * 1e-3\n",
    "q = 1.602176634e-19\n",
    "T = 340\n",
    "kB = 1.380649e-23\n",
    "ne_fac = rho / MW * q**2 / (kB * T) * NA * 10 * 1e-10\n",
    "gk_fac = rho / MW * q**2 / (kB * T) * NA * 10 / 32 * 1e-10\n",
    "d = lambda msd, idx: msd[2300, idx]/msd[2300, 0]/6*100\n",
    "\n",
    "sigma = {\n",
    "    340: [[] for i in range(6)],\n",
    "    380: [[] for i in range(6)],\n",
    "    450: [[] for i in range(6)]\n",
    "}\n",
    "\n",
    "for sys in sorted(systems):\n",
    "    name = os.path.basename(sys)\n",
    "    d_all = []\n",
    "    if not os.path.exists(f'../skel/restart/{name}.xyz'):\n",
    "        continue\n",
    "    try:\n",
    "        msd = np.load(f\"{sys}/msd-0-5ns/msd.npy\")\n",
    "        pmsd = np.load(f\"{sys}/msd-0-5ns/pmsd.npy\")\n",
    "    except:\n",
    "        continue\n",
    "        \n",
    "    d_all.append([d(msd,1), d(msd,2), d(msd,3), d(pmsd, 1)])\n",
    "    d_avg = np.mean(d_all, axis=0)\n",
    "    d_std = np.std(d_all, axis=0)\n",
    "    \n",
    "    \n",
    "    # print(f'System: {name}, '\n",
    "    #       f'H: {d_avg[0]:.2f}({d_std[0]:.2f}), '\n",
    "    #       f'O: {d_avg[1]:.2f}({d_std[1]:.2f}), '\n",
    "    #       f'N: {d_avg[2]:.2f}({d_std[2]:.2f}), ' \n",
    "    #       f'GK: {d_avg[3]*gk_fac:.2f} '\n",
    "    #       f'Delta: {1-d_avg[3]*gk_fac/((d_avg[1]+d_avg[2])*ne_fac):.3f}'\n",
    "    #      )\n",
    "    \n",
    "    frac = float(re.search('\\d+k-\\d-(.*)', name).group(1))\n",
    "    temp = int(re.search('(\\d+)k-\\d-.*', name).group(1))\n",
    "    if temp in sigma:\n",
    "        sigma[temp][0].append(frac)\n",
    "        sigma[temp][1].append(1-d_avg[3]*gk_fac/((d_avg[1]+d_avg[2])*ne_fac))\n",
    "        sigma[temp][2].append(d_avg[3]*gk_fac)\n",
    "        sigma[temp][3].append(d_avg[0])\n",
    "        sigma[temp][4].append(d_avg[1])\n",
    "        sigma[temp][5].append(d_avg[2])"
   ]
  },
  {
   "cell_type": "code",
   "execution_count": 68,
   "id": "e1687a97-e000-4fb0-a64c-9b506b8b42a5",
   "metadata": {},
   "outputs": [
    {
     "name": "stdout",
     "output_type": "stream",
     "text": [
      "temperature 340, H 0.10(0.04), O 0.12(0.04), N 0.12(0.06), GK 0.70(0.38), Dleta 0.87(0.06)\n",
      "temperature 380, H 0.43(0.12), O 0.46(0.12), N 0.48(0.14), GK 1.97(1.32), Dleta 0.91(0.06)\n",
      "temperature 450, H 1.79(0.33), O 1.90(0.34), N 1.95(0.23), GK 14.34(13.56), Dleta 0.85(0.16)\n"
     ]
    }
   ],
   "source": [
    "for k,v in sigma.items():\n",
    "    print(f'temperature {k}, '\n",
    "          f'H {np.mean(v[3]):.2f}({np.std(v[3]):.2f}), '\n",
    "          f'O {np.mean(v[4]):.2f}({np.std(v[4]):.2f}), '\n",
    "          f'N {np.mean(v[5]):.2f}({np.std(v[5]):.2f}), '\n",
    "          f'GK {np.mean(v[2]):.2f}({np.std(v[2]):.2f}), '\n",
    "          f'Dleta {np.mean(v[1]):.2f}({np.std(v[1]):.2f})')"
   ]
  },
  {
   "cell_type": "code",
   "execution_count": 69,
   "id": "0f6c506b-0717-46f2-baec-bf89ee24dc7b",
   "metadata": {},
   "outputs": [
    {
     "data": {
      "text/plain": [
       "<matplotlib.collections.PathCollection at 0x7f752545da10>"
      ]
     },
     "execution_count": 69,
     "metadata": {},
     "output_type": "execute_result"
    },
    {
     "data": {
      "image/png": "[encoded data removed]",
      "text/plain": [
       "<Figure size 432x288 with 1 Axes>"
      ]
     },
     "metadata": {
      "needs_background": "light"
     },
     "output_type": "display_data"
    }
   ],
   "source": [
    "plt.scatter(sigma[340][0], sigma[340][2])\n",
    "plt.scatter(sigma[380][0], sigma[380][2])\n",
    "plt.scatter(sigma[450][0], sigma[450][2])\n"
   ]
  }
 ],
 "metadata": {
  "kernelspec": {
   "display_name": "cond-env",
   "language": "python",
   "name": "cond-env"
  },
  "language_info": {
   "codemirror_mode": {
    "name": "ipython",
    "version": 3
   },
   "file_extension": ".py",
   "mimetype": "text/x-python",
   "name": "python",
   "nbconvert_exporter": "python",
   "pygments_lexer": "ipython3",
   "version": "3.7.13"
  }
 },
 "nbformat": 4,
 "nbformat_minor": 5
}
