{
 "cells": [
  {
   "cell_type": "markdown",
   "id": "261d62dd-36b5-4cf4-8c07-a4589e898c7c",
   "metadata": {},
   "source": [
    "# Manual operations\n",
    "\n",
    "Subsections should be self-contained\n",
    "\n",
    "## Manual filter of datasets"
   ]
  },
  {
   "cell_type": "code",
   "execution_count": null,
   "id": "3b7075e3-fcd9-4085-b92b-0056726984b0",
   "metadata": {},
   "outputs": [],
   "source": [
    "from pinn.io import load_ds, write_tfrecord\n",
    "def filter_ef(datum):\n",
    "    import tensorflow as tf\n",
    "    return (datum['e_data']<-2944.) and (tf.reduce_max(tf.abs(datum['f_data']))<0.2)\n",
    "ds = load_ds('../pils-v3.yml').filter(filter_ef)"
   ]
  },
  {
   "cell_type": "markdown",
   "id": "f6d6819a-d647-421a-970d-277bf059dfdb",
   "metadata": {},
   "source": [
    "## Generation of geometry from experiments"
   ]
  },
  {
   "cell_type": "code",
   "execution_count": 3,
   "id": "002a8f4b-c696-4f06-8223-78865a406451",
   "metadata": {},
   "outputs": [],
   "source": [
    "from ase.io import read, write\n",
    "from glob import glob\n",
    "import os\n",
    "for comp in ['a0b0i32', 'a32b32i0', 'a16b16i16']:\n",
    "    for rho in ['1.16', '1.08']:\n",
    "        geo = read(f'../exp/prod-adam-run2/prod/gen30/nvt-340k-5ns-0/{comp}-r{rho}/asemd.traj', index='-1')\n",
    "        write(f'../skel/init/prod-geo/{comp}-r{rho}.xyz', geo)\n",
    "        # os.mkdir(f'dummy/{comp}-r{rho}/')\n",
    "        # write(f'dummy/{comp}-r{rho}/asemd.traj', [geo])"
   ]
  },
  {
   "cell_type": "markdown",
   "id": "861cc8b4-bcb8-484d-99e2-0621289fc48f",
   "metadata": {},
   "source": [
    "## Checking the unwrapping of Trajs for MSD"
   ]
  },
  {
   "cell_type": "code",
   "execution_count": null,
   "id": "de9851e2-4e7b-4b8c-b5b1-5118bd03c4db",
   "metadata": {},
   "outputs": [],
   "source": [
    "import numpy as np\n",
    "from glob import glob\n",
    "from tips.io import load_ds\n",
    "from ase.data import atomic_masses as am\n",
    "from lib.transport import rmcom, mktopo, cktopo\n",
    "\n",
    "\n",
    "def load_chunk(\n",
    "        dataset, fmt, emap, # load_opts\n",
    "        stride, t_start, t_end, t_check, dt,\n",
    "):\n",
    "    from ase.data import atomic_masses as am\n",
    "    stride = round(stride/dt)\n",
    "    start  = round(t_start/dt)\n",
    "    end    = round(t_end/dt if t_end else -1)\n",
    "    \n",
    "    if len(dataset)==1 and dataset[0].endswith('.traj'):\n",
    "        ds = load_ds(dataset[0], fmt='asetraj', index=f'{start}:{end}:{stride}')\n",
    "    else:\n",
    "        ds = load_ds(f'{dataset[0]}/cp2k-md', fmt='cp2k')\n",
    "        for restart in dataset[1:]:\n",
    "            ds = ds.join(load_ds(f'{restart}/cp2k-md', fmt='cp2k')[1:])\n",
    "        ds = ds[start:end:stride]\n",
    "    return ds\n",
    "testgeo = 'a0b0i32-rho1.0753'\n",
    "trajs = sorted(glob(f'../trajs/cp2k/nvt-*ps/*{testgeo}'), key=lambda x: int(x.split('-')[1]))\n",
    "ds = load_chunk(trajs[:], 'cp2k', None, 0.01, 0, None, 1.0, 0.0005)"
   ]
  },
  {
   "cell_type": "code",
   "execution_count": 124,
   "id": "bd8adf05-2b84-4620-85d4-ef6eee4a0d13",
   "metadata": {},
   "outputs": [
    {
     "name": "stdout",
     "output_type": "stream",
     "text": [
      " 1099:   "
     ]
    }
   ],
   "source": [
    "def rmcom(old_pos, new_pos, cell, masses):\n",
    "    if old_pos is None:\n",
    "        return new_pos\n",
    "    else:\n",
    "        new_pos = new_pos - np.rint((new_pos-old_pos)/cell)*cell\n",
    "        return new_pos\n",
    "    \n",
    "t_check = 1.0\n",
    "dt = 0.0005\n",
    "check  = round(t_check/dt)\n",
    "masses = np.array([am[i] for i in ds[0]['elem']])\n",
    "prev_topo, prev_pos = None, None\n",
    "com_pos = []\n",
    "log_pos = []\n",
    "for i, datum in enumerate(ds[::10]):\n",
    "    print(f'\\r {i}:   ', end='')\n",
    "    if i%check == 0:\n",
    "        this_topo = mktopo(datum, level=0)\n",
    "        prev_topo = cktopo(this_topo, prev_topo)\n",
    "        h_act, o_act, n_act = this_topo\n",
    "    cell = np.diag(datum['cell'])[None,:]\n",
    "    prev_pos = rmcom(prev_pos, datum['coord'], cell, masses)\n",
    "    com_pos.append(np.average(prev_pos, weights=masses, axis=0))\n",
    "    log_pos.append(prev_pos-np.average(prev_pos, weights=masses, axis=0))\n",
    "com_pos = np.array(com_pos)\n",
    "log_pos = np.array(log_pos)"
   ]
  },
  {
   "cell_type": "code",
   "execution_count": 126,
   "id": "9110ebfc-7459-4b3d-8bf5-763896c43585",
   "metadata": {},
   "outputs": [
    {
     "data": {
      "image/png": "[encoded data removed]",
      "text/plain": [
       "<Figure size 432x288 with 1 Axes>"
      ]
     },
     "metadata": {
      "needs_background": "light"
     },
     "output_type": "display_data"
    }
   ],
   "source": [
    "%matplotlib inline\n",
    "import matplotlib.pyplot as plt\n",
    "plt.plot(log_pos[:,:5,0], lw=1, color='k');\n",
    "plt.plot(com_pos[:,0], lw=1, color='r');"
   ]
  },
  {
   "cell_type": "markdown",
   "id": "56e3219d-a02d-42a3-8ffa-617632e6a478",
   "metadata": {},
   "source": [
    "## Writing out trajectories for visualization"
   ]
  },
  {
   "cell_type": "code",
   "execution_count": 80,
   "id": "44fc0db6-a842-4a74-aea0-cef77a1673b3",
   "metadata": {},
   "outputs": [],
   "source": [
    "def smart_wrap(atoms):\n",
    "      #!/usr/bin/env python\n",
    "    import numpy as np\n",
    "    from ase import Atoms, neighborlist\n",
    "    from ase.io import write\n",
    "    from scipy import sparse\n",
    "    natoms =  len(atoms)\n",
    "    \n",
    "    assert (atoms.cell.angles() == 90.).all(), \"Only orthogonal cells allowed.\"\n",
    "    cell = atoms.cell.diagonal()\n",
    "    atoms.wrap()\n",
    "  \n",
    "    cutoff = {\n",
    "        (\"H\", \"C\"): 1.74,\n",
    "        (\"H\", \"N\"): 1.9,\n",
    "        (\"H\", \"O\"): 1.9,\n",
    "        (\"C\", \"C\"): 2,\n",
    "        (\"C\", \"N\"): 2,\n",
    "        (\"C\", \"O\"): 2,\n",
    "    }\n",
    "\n",
    "    nl_i, nl_j, nl_d = neighborlist.neighbor_list(\"ijd\", atoms, cutoff, self_interaction=False)\n",
    "    conMat = sparse.dok_matrix((natoms, natoms), dtype=np.int8)\n",
    "    conMat[nl_i, nl_j] = 1  # we have several running indices here prefixed by (nl, mol, h)\n",
    "    conMat[nl_j, nl_i] = 1  # v---- shamelessly taken from the ase documentation\n",
    "    n_mol, mol_assign = sparse.csgraph.connected_components(conMat)\n",
    "    for mol_i in range(n_mol):\n",
    "        pos_mol = atoms.positions[mol_assign==mol_i]\n",
    "        mass_mol = atoms.get_masses()[mol_assign==mol_i]\n",
    "        pos_mol -= np.rint((pos_mol-pos_mol[:1,:])/cell[None,:])*cell[None,:]\n",
    "        com_mol = mass_mol@pos_mol/(mass_mol.sum())\n",
    "        pos_mol -= np.rint(com_mol/cell[None,:]-0.5)*cell[None,:]\n",
    "        atoms.positions[mol_assign==mol_i] = pos_mol\n",
    "        \n",
    "def unwrap(atoms_prev, atoms_next):\n",
    "    cell = atoms_next.cell.diagonal()\n",
    "    atoms_next.positions -= np.rint((atoms_next.positions-atoms_prev.positions)\n",
    "                                    /cell[None,:])*cell[None,:]    \n",
    "    \n",
    "    \n",
    "from tips.io import load_ds\n",
    "from ase.io import write\n",
    "import numpy as np\n",
    "traj_ase = # ..\n",
    "\n",
    "for idx, (atoms, atoms_ref) in enumerate(zip(traj_ase, [traj_ref[s] for s in sort])):\n",
    "    if 'stress' in atoms.calc.results : del atoms.calc.results['stress']    \n",
    "    atoms.calc.results['forces'] -= atoms_ref.calc.results['forces']\n",
    "    if  idx%100==0:\n",
    "        print(f'\\r{idx} ', end='')\n",
    "        smart_wrap(atoms)\n",
    "    else:\n",
    "        unwrap(traj_ase[idx-1], traj_ase[idx])\n",
    "write('tmp.xyz', traj_ase[:idx+1])"
   ]
  },
  {
   "cell_type": "code",
   "execution_count": 81,
   "id": "5cae23ec-e4cd-49e4-bec7-c7734427ca01",
   "metadata": {},
   "outputs": [
    {
     "name": "stdout",
     "output_type": "stream",
     "text": [
      "9 "
     ]
    }
   ],
   "source": [
    "from tips.io import load_ds\n",
    "from ase.io import write\n",
    "import numpy as np\n",
    "flag = 'gen34/m32i0-r1.08'\n",
    "# traj = load_ds('../exp/transfer/emd/gen34/m32i0-r1.08/asemd.traj',fmt='asetraj', index='::16')\n",
    "traj_ref = load_ds(f'../exp/transfer/merge/{flag}/merged.traj',fmt='asetraj', index=':').convert(fmt='ase')\n",
    "traj_idx = np.loadtxt(f'../exp/transfer/merge/{flag}/merged.idx')\n",
    "sort = np.argsort(traj_idx)\n",
    "traj = load_ds(f'../exp/transfer/emd/{flag}/asemd.traj',fmt='asetraj', index=f'0::{int(traj_idx[sort][1])}')\n",
    "traj_ase = traj.convert(fmt='ase')\n",
    "\n",
    "for idx, (atoms, atoms_ref) in enumerate(zip(traj_ase, [traj_ref[s] for s in sort])):\n",
    "    if 'stress' in atoms.calc.results : del atoms.calc.results['stress']    \n",
    "    atoms.calc.results['forces'] -= atoms_ref.calc.results['forces']\n",
    "    if  True:#idx%1==0:\n",
    "        print(f'\\r{idx} ', end='')\n",
    "        smart_wrap(atoms)\n",
    "    else:\n",
    "        unwrap(traj_ase[idx-1], traj_ase[idx])\n",
    "write('tmp.xyz', traj_ase[:idx+1])"
   ]
  },
  {
   "cell_type": "code",
   "execution_count": 46,
   "id": "84ee8d37-7b08-4a68-8531-63d771915e2d",
   "metadata": {},
   "outputs": [
    {
     "name": "stdout",
     "output_type": "stream",
     "text": [
      "9"
     ]
    }
   ],
   "source": [
    "from tips.io import load_ds\n",
    "from ase.io import write\n",
    "\n",
    "traj = load_ds('../exp/transfer/merge/gen34/m16i16-r1.08/merged.traj',fmt='asetraj', index=':')\n",
    "traj_ase = traj.convert(fmt='ase')\n",
    "for idx, atoms in enumerate(traj_ase):\n",
    "    if 'stress' in atoms.calc.results : del atoms.calc.results['stress']    \n",
    "    if  True:\n",
    "        print(f'\\r{idx}', end='')\n",
    "        smart_wrap(atoms)\n",
    "    else:\n",
    "        unwrap(traj_ase[idx-1], traj_ase[idx])\n",
    "write('tmp.xyz', traj_ase)"
   ]
  }
 ],
 "metadata": {
  "kernelspec": {
   "display_name": "pinn-tf2",
   "language": "python",
   "name": "pinn-tf2"
  },
  "language_info": {
   "codemirror_mode": {
    "name": "ipython",
    "version": 3
   },
   "file_extension": ".py",
   "mimetype": "text/x-python",
   "name": "python",
   "nbconvert_exporter": "python",
   "pygments_lexer": "ipython3",
   "version": "3.9.5"
  }
 },
 "nbformat": 4,
 "nbformat_minor": 5
}
