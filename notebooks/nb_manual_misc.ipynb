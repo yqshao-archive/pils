{
 "cells": [
  {
   "cell_type": "markdown",
   "id": "261d62dd-36b5-4cf4-8c07-a4589e898c7c",
   "metadata": {},
   "source": [
    "# Manual operations\n",
    "\n",
    "Subsections should be self-contained\n",
    "\n",
    "## Manual filter of datasets"
   ]
  },
  {
   "cell_type": "code",
   "execution_count": null,
   "id": "3b7075e3-fcd9-4085-b92b-0056726984b0",
   "metadata": {},
   "outputs": [],
   "source": [
    "from pinn.io import load_ds, write_tfrecord\n",
    "def filter_ef(datum):\n",
    "    import tensorflow as tf\n",
    "    return (datum['e_data']<-2944.) and (tf.reduce_max(tf.abs(datum['f_data']))<0.2)\n",
    "ds = load_ds('../pils-v3.yml').filter(filter_ef)"
   ]
  },
  {
   "cell_type": "markdown",
   "id": "f6d6819a-d647-421a-970d-277bf059dfdb",
   "metadata": {},
   "source": [
    "## Generation of geometry from experiments"
   ]
  },
  {
   "cell_type": "code",
   "execution_count": null,
   "id": "002a8f4b-c696-4f06-8223-78865a406451",
   "metadata": {},
   "outputs": [],
   "source": [
    "from ase.io import read, write\n",
    "from glob import glob\n",
    "import os\n",
    "for comp in ['a0b0i32', 'a32b32i0', 'a16b16i16']:\n",
    "    for rho in ['1.16', '1.08']:\n",
    "        geo = read(f'../exp/trial-adam/prod/gen31/nvt-340k-5ns-0/{comp}-r{rho}/asemd.traj', index='-1')\n",
    "        write(f'../skel/init/trial-geo/{comp}-r{rho}.xyz', geo)\n",
    "        os.mkdir(f'fake/{comp}-r{rho}/')\n",
    "        write(f'fake/{comp}-r{rho}/asemd.traj', [geo])"
   ]
  },
  {
   "cell_type": "markdown",
   "id": "56e3219d-a02d-42a3-8ffa-617632e6a478",
   "metadata": {},
   "source": [
    "## Writing out trajectories for visualization"
   ]
  },
  {
   "cell_type": "code",
   "execution_count": null,
   "id": "44fc0db6-a842-4a74-aea0-cef77a1673b3",
   "metadata": {},
   "outputs": [],
   "source": [
    "def smart_wrap(atoms):\n",
    "      #!/usr/bin/env python\n",
    "    import numpy as np\n",
    "    from ase import Atoms, neighborlist\n",
    "    from ase.io import write\n",
    "    from scipy import sparse\n",
    "    natoms =  len(atoms)\n",
    "    \n",
    "    assert (atoms.cell.angles() == 90.).all(), \"Only orthogonal cells allowed.\"\n",
    "    cell = atoms.cell.diagonal()\n",
    "    atoms.wrap()\n",
    "  \n",
    "    cutoff = {\n",
    "        (\"H\", \"C\"): 1.74,\n",
    "        (\"H\", \"N\"): 1.9,\n",
    "        (\"H\", \"O\"): 1.9,\n",
    "        (\"C\", \"C\"): 2,\n",
    "        (\"C\", \"N\"): 2,\n",
    "        (\"C\", \"O\"): 2,\n",
    "    }\n",
    "\n",
    "    nl_i, nl_j, nl_d = neighborlist.neighbor_list(\"ijd\", atoms, cutoff, self_interaction=False)\n",
    "    conMat = sparse.dok_matrix((natoms, natoms), dtype=np.int8)\n",
    "    conMat[nl_i, nl_j] = 1  # we have several running indices here prefixed by (nl, mol, h)\n",
    "    conMat[nl_j, nl_i] = 1  # v---- shamelessly taken from the ase documentation\n",
    "    n_mol, mol_assign = sparse.csgraph.connected_components(conMat)\n",
    "    \n",
    "    for mol_i in range(n_mol):\n",
    "        pos_mol = atoms.positions[mol_assign==mol_i]\n",
    "        mass_mol = atoms.get_masses()[mol_assign==mol_i]\n",
    "        pos_mol -= np.rint((pos_mol-pos_mol[:1,:])/cell[None,:])*cell[None,:]\n",
    "        com_mol = mass_mol@pos_mol/(mass_mol.sum())\n",
    "        pos_mol -= np.rint(com_mol/cell[None,:]-0.5)*cell[None,:]\n",
    "        atoms.positions[mol_assign==mol_i] = pos_mol\n",
    "        \n",
    "def unwrap(atoms_prev, atoms_next):\n",
    "    cell = atoms_next.cell.diagonal()\n",
    "    atoms_next.positions -= np.rint((atoms_next.positions-atoms_prev.positions)\n",
    "                                    /cell[None,:])*cell[None,:]    "
   ]
  },
  {
   "cell_type": "code",
   "execution_count": null,
   "id": "5cae23ec-e4cd-49e4-bec7-c7734427ca01",
   "metadata": {},
   "outputs": [],
   "source": [
    "from tips.io import load_ds\n",
    "from ase.io import write\n",
    "\n",
    "traj = load_ds('../exp/adam1-sin-run1/emd/gen28/m16i16-r1.08/asemd.traj',fmt='asetraj', index='::100')\n",
    "traj_ase = traj.convert(fmt='ase')\n",
    "\n",
    "for idx, atoms in enumerate(traj_ase):\n",
    "    if 'stress' in atoms.calc.results : del atoms.calc.results['stress']    \n",
    "    if  idx%100==0:\n",
    "        print(f'\\r{idx}', end='')\n",
    "        smart_wrap(atoms)\n",
    "    else:\n",
    "        unwrap(traj_ase[idx-1], traj_ase[idx])\n",
    "write('tmp.xyz', traj_ase)"
   ]
  },
  {
   "cell_type": "code",
   "execution_count": null,
   "id": "84ee8d37-7b08-4a68-8531-63d771915e2d",
   "metadata": {},
   "outputs": [],
   "source": [
    "from tips.io import load_ds\n",
    "from ase.io import write\n",
    "\n",
    "traj = load_ds('../exp/adam1-sin-run1/merge/gen28/m16i16-r1.16/merged.traj',fmt='asetraj', index=':')\n",
    "traj_ase = traj.convert(fmt='ase')\n",
    "for idx, atoms in enumerate(traj_ase):\n",
    "    if 'stress' in atoms.calc.results : del atoms.calc.results['stress']    \n",
    "    if  True:\n",
    "        print(f'\\r{idx}', end='')\n",
    "        smart_wrap(atoms)\n",
    "    else:\n",
    "        unwrap(traj_ase[idx-1], traj_ase[idx])\n",
    "write('tmp.xyz', traj_ase)"
   ]
  }
 ],
 "metadata": {
  "kernelspec": {
   "display_name": "pinn-tf2",
   "language": "python",
   "name": "pinn-tf2"
  },
  "language_info": {
   "codemirror_mode": {
    "name": "ipython",
    "version": 3
   },
   "file_extension": ".py",
   "mimetype": "text/x-python",
   "name": "python",
   "nbconvert_exporter": "python",
   "pygments_lexer": "ipython3",
   "version": "3.9.5"
  }
 },
 "nbformat": 4,
 "nbformat_minor": 5
}
