{
 "cells": [
  {
   "cell_type": "markdown",
   "id": "449375c8-ab25-4f4d-a900-37d0b74b7258",
   "metadata": {},
   "source": [
    "# Dataset convertion and inspect"
   ]
  },
  {
   "cell_type": "code",
   "execution_count": null,
   "id": "abb13e7a-edb8-4c96-9c19-8cfb99a10550",
   "metadata": {},
   "outputs": [],
   "source": [
    "%matplotlib inline\n",
    "import logging\n",
    "import numpy as np\n",
    "import tensorflow as tf\n",
    "import matplotlib.pyplot as plt\n",
    "from tips.io import load_ds\n",
    "from glob import glob\n",
    "from pathlib import Path\n",
    "logger = logging.getLogger('tips')\n",
    "logger.setLevel('INFO')\n",
    "tf.get_logger().setLevel('INFO')"
   ]
  },
  {
   "cell_type": "code",
   "execution_count": null,
   "id": "0fe8bfbd-cfef-455f-a2a2-dad95beeb171",
   "metadata": {},
   "outputs": [],
   "source": [
    "key2name = {\n",
    "    'hoac-c1im-a32b32i0-rho1.0753':   '0%-1.08',\n",
    "    'hoac-c1im-a16b16i16-rho1.0753': '50%-1.08',\n",
    "    'hoac-c1im-a0b0i32-rho1.0753':  '100%-1.08',\n",
    "    'hoac-c1im-a32b32i0-rho1.1551':   '0%-1.16',\n",
    "    'hoac-c1im-a16b16i16-rho1.1551': '50%-1.16',\n",
    "    'hoac-c1im-a0b0i32-rho1.1551':  '100%-1.16',\n",
    "}"
   ]
  },
  {
   "cell_type": "markdown",
   "id": "a26be408-4406-4595-8f91-77e04124faa3",
   "metadata": {},
   "source": [
    "## To get the PiNN formatted datasets from CP2K logs...\n",
    "\n",
    "```bash\n",
    "#!/bin/bash\n",
    "projs=();for f in nvt-*/*; do projs+=($f/cp2k-md); done; echo ${projs[@]}\n",
    "tips convert ${projs[@]} -f cp2k -of pinn -o pils-40ps --shuffle\n",
    "```"
   ]
  },
  {
   "cell_type": "code",
   "execution_count": null,
   "id": "241580a2-9640-410d-8dff-25709afda5fa",
   "metadata": {},
   "outputs": [],
   "source": [
    "inits = set([Path(init).name for init in glob('../trajs/cp2k/nvt-*/*/')])\n",
    "ds_all = {}\n",
    "for init in inits:\n",
    "    projs = [Path(proj)/'cp2k-md' for proj in glob(f'../trajs/cp2k/nvt-*/{init}/')]\n",
    "    ds_all[init] = load_ds(projs, fmt='cp2k')\n",
    "    print(init, list(ds_all[init].meta['spec'].keys()))"
   ]
  },
  {
   "cell_type": "code",
   "execution_count": null,
   "id": "75a8a456-766f-4be3-9274-3c26b853218a",
   "metadata": {},
   "outputs": [],
   "source": [
    "for init in inits:\n",
    "    #load_ds(f'../trajs/cp2k/nvt-30-40ps/{init}/cp2k-md', fmt='cp2k')[-1:].convert(init, fmt='extxyz')\n",
    "    datum = load_ds(f'../trajs/cp2k/nvt-30-40ps/{init}/cp2k-md', fmt='cp2k')[-1]\n",
    "    print(init, datum['energy']/640, np.abs(datum['force']).max())\n"
   ]
  },
  {
   "cell_type": "code",
   "execution_count": null,
   "id": "3d05db1e-d1c3-432e-b1fd-cd2e3c535e30",
   "metadata": {},
   "outputs": [],
   "source": [
    "energy_stat, force_stat, labels = [], [], []\n",
    "\n",
    "for k in sorted(ds_all.keys()):\n",
    "    labels.append(key2name[k])\n",
    "    e_stat, f_stat = [], []\n",
    "    for datum in ds_all[k].shuffle()[:5000]:\n",
    "        e_stat.append(datum['energy'])\n",
    "        f_stat.append(datum['force'].ravel())\n",
    "    energy_stat.append(np.array(e_stat))\n",
    "    force_stat.append(np.concatenate(f_stat))"
   ]
  },
  {
   "cell_type": "code",
   "execution_count": null,
   "id": "78f4fe07-ca1f-4fdb-bd6b-e34c1d9f19d8",
   "metadata": {},
   "outputs": [],
   "source": [
    "e_stat, f_stat = [], []\n",
    "for datum in load_ds('../datasets//pils-40ps.yml', fmt='pinn')[:5000]:\n",
    "    e_stat.append(datum['energy'])\n",
    "    f_stat.append(datum['force'].ravel())\n",
    "energy_stat_gen=np.array(e_stat)\n",
    "force_stat_gen=np.concatenate(f_stat)"
   ]
  },
  {
   "cell_type": "code",
   "execution_count": null,
   "id": "c54e73eb-1d62-492e-9587-e58570734af2",
   "metadata": {},
   "outputs": [],
   "source": [
    "f, (ax1, ax2) = plt.subplots(2, 1, figsize=[4,6])\n",
    "\n",
    "\n",
    "ax1.hist([stat/640. for stat in energy_stat], \n",
    "         bins=100, stacked=True, label=labels, density=True)\n",
    "\n",
    "ax1.hist(energy_stat_gen/640., bins=100, color='k', ls='--', histtype='step', fill=False, density=True)\n",
    "ax2.hist([stat for stat in force_stat], \n",
    "         bins=100, stacked=True, label=labels, density=True)\n",
    "ax2.hist(force_stat_gen, bins=100, color='k', ls='--', histtype='step', fill=False, density=True)\n",
    "\n",
    "ax1.legend()\n",
    "ax1.set_xlabel('Pot. Ener. [eV/atom]')\n",
    "#ax1.set_yscale('log')\n",
    "ax2.set_yscale('log')"
   ]
  }
 ],
 "metadata": {
  "kernelspec": {
   "display_name": "pinn-tf2",
   "language": "python",
   "name": "pinn-tf2"
  },
  "language_info": {
   "codemirror_mode": {
    "name": "ipython",
    "version": 3
   },
   "file_extension": ".py",
   "mimetype": "text/x-python",
   "name": "python",
   "nbconvert_exporter": "python",
   "pygments_lexer": "ipython3",
   "version": "3.9.5"
  }
 },
 "nbformat": 4,
 "nbformat_minor": 5
}
