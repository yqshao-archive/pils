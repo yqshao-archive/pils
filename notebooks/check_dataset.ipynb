{
 "cells": [
  {
   "cell_type": "code",
   "execution_count": 3,
   "metadata": {},
   "outputs": [],
   "source": [
    "%matplotlib inline\n",
    "from pinn.io import load_ds\n",
    "from ase.io import write\n",
    "from ase import Atoms\n",
    "import matplotlib.pyplot as plt\n",
    "import numpy as np\n",
    "from pinn.utils import get_atomic_dress\n"
   ]
  },
  {
   "cell_type": "code",
   "execution_count": 19,
   "metadata": {},
   "outputs": [],
   "source": [
    "ds = load_ds('../datasets/pils-v3-filtered.yml').take(2000)\n",
    "e, residue = get_atomic_dress(ds, [1,6,7,8])"
   ]
  },
  {
   "cell_type": "code",
   "execution_count": 20,
   "metadata": {},
   "outputs": [
    {
     "data": {
      "text/plain": [
       "(array([  2.,   1.,   0.,   1.,   0.,   1.,   0.,   1.,   0.,   0.,   1.,\n",
       "          0.,   4.,   3.,   7.,  11.,   5.,  10.,   7.,   7.,   5.,   8.,\n",
       "         12.,  15.,   6.,  11.,  10.,  24.,  10.,  10.,  20.,  16.,  16.,\n",
       "         10.,  13.,  26.,  37.,  29.,  46.,  53.,  83., 129., 189., 316.,\n",
       "        414., 237., 131.,  54.,   4.,   5.]),\n",
       " array([-0.86554077, -0.84447632, -0.82341187, -0.80234741, -0.78128296,\n",
       "        -0.76021851, -0.73915405, -0.7180896 , -0.69702515, -0.67596069,\n",
       "        -0.65489624, -0.63383179, -0.61276733, -0.59170288, -0.57063843,\n",
       "        -0.54957397, -0.52850952, -0.50744507, -0.48638062, -0.46531616,\n",
       "        -0.44425171, -0.42318726, -0.4021228 , -0.38105835, -0.3599939 ,\n",
       "        -0.33892944, -0.31786499, -0.29680054, -0.27573608, -0.25467163,\n",
       "        -0.23360718, -0.21254272, -0.19147827, -0.17041382, -0.14934937,\n",
       "        -0.12828491, -0.10722046, -0.08615601, -0.06509155, -0.0440271 ,\n",
       "        -0.02296265, -0.00189819,  0.01916626,  0.04023071,  0.06129517,\n",
       "         0.08235962,  0.10342407,  0.12448853,  0.14555298,  0.16661743,\n",
       "         0.18768188]),\n",
       " <BarContainer object of 50 artists>)"
      ]
     },
     "execution_count": 20,
     "metadata": {},
     "output_type": "execute_result"
    },
    {
     "data": {
      "image/png": "[encoded data removed]",
      "text/plain": [
       "<Figure size 432x288 with 1 Axes>"
      ]
     },
     "metadata": {
      "needs_background": "light"
     },
     "output_type": "display_data"
    }
   ],
   "source": [
    "plt.hist(residue, 50, ec='k')"
   ]
  },
  {
   "cell_type": "code",
   "execution_count": 16,
   "metadata": {},
   "outputs": [],
   "source": [
    "e_list = []\n",
    "f_list = []\n",
    "traj = []\n",
    "for datum in ds.take(2000).as_numpy_iterator():\n",
    "    natoms = len(datum['elems'])\n",
    "    e_list.append(datum['e_data']/natoms)\n",
    "    f_list.append(np.diag(datum['cell']).flatten())\n",
    "    traj.append(Atoms(datum['elems'], positions=datum['coord'], cell=datum['cell'], pbc=True))\n",
    "f_list = np.concatenate(f_list)\n",
    "\n"
   ]
  },
  {
   "cell_type": "code",
   "execution_count": 14,
   "metadata": {},
   "outputs": [],
   "source": [
    "e_list_1 = e_list.copy()\n",
    "f_list_1 = f_list.copy()"
   ]
  },
  {
   "cell_type": "code",
   "execution_count": 12,
   "metadata": {},
   "outputs": [
    {
     "data": {
      "image/png": "[encoded data removed]",
      "text/plain": [
       "<Figure size 432x288 with 1 Axes>"
      ]
     },
     "metadata": {
      "needs_background": "light"
     },
     "output_type": "display_data"
    }
   ],
   "source": [
    "plt.hist(e_list, 59)\n",
    "plt.hist(e_list_1, 59);\n"
   ]
  }
 ],
 "metadata": {
  "kernelspec": {
   "display_name": "pinn-tf25",
   "language": "python",
   "name": "pinn-tf25"
  },
  "language_info": {
   "codemirror_mode": {
    "name": "ipython",
    "version": 3
   },
   "file_extension": ".py",
   "mimetype": "text/x-python",
   "name": "python",
   "nbconvert_exporter": "python",
   "pygments_lexer": "ipython3",
   "version": "3.8.6"
  }
 },
 "nbformat": 4,
 "nbformat_minor": 4
}
