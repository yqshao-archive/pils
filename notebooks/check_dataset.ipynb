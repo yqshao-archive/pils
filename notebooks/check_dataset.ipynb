{
 "cells": [
  {
   "cell_type": "code",
   "execution_count": 2,
   "metadata": {},
   "outputs": [],
   "source": [
    "%matplotlib inline\n",
    "from pinn.io import load_ds\n",
    "from ase.io import write\n",
    "from ase import Atoms\n",
    "import matplotlib.pyplot as plt\n",
    "import numpy as np\n",
    "from pinn.utils import get_atomic_dress\n"
   ]
  },
  {
   "cell_type": "code",
   "execution_count": 3,
   "metadata": {},
   "outputs": [],
   "source": [
    "ds = load_ds('../datasets/pils-v2-filtered.yml')\n",
    "# e, residue = get_atomic_dress(ds, [1,6,7,8])"
   ]
  },
  {
   "cell_type": "code",
   "execution_count": 16,
   "metadata": {},
   "outputs": [],
   "source": [
    "e_list = []\n",
    "f_list = []\n",
    "traj = []\n",
    "for datum in ds.take(2000).as_numpy_iterator():\n",
    "    natoms = len(datum['elems'])\n",
    "    e_list.append(datum['e_data']/natoms)\n",
    "    f_list.append(np.diag(datum['cell']).flatten())\n",
    "    traj.append(Atoms(datum['elems'], positions=datum['coord'], cell=datum['cell'], pbc=True))\n",
    "f_list = np.concatenate(f_list)"
   ]
  },
  {
   "cell_type": "code",
   "execution_count": 14,
   "metadata": {},
   "outputs": [],
   "source": [
    "e_list_1 = e_list.copy()\n",
    "f_list_1 = f_list.copy()"
   ]
  },
  {
   "cell_type": "code",
   "execution_count": 12,
   "metadata": {},
   "outputs": [
    {
     "data": {
      "image/png": "[encoded data removed]",
      "text/plain": [
       "<Figure size 432x288 with 1 Axes>"
      ]
     },
     "metadata": {
      "needs_background": "light"
     },
     "output_type": "display_data"
    }
   ],
   "source": [
    "plt.hist(e_list, 59)\n",
    "plt.hist(e_list_1, 59);\n"
   ]
  }
 ],
 "metadata": {
  "kernelspec": {
   "display_name": "pinn-tf25",
   "language": "python",
   "name": "pinn-tf25"
  },
  "language_info": {
   "codemirror_mode": {
    "name": "ipython",
    "version": 3
   },
   "file_extension": ".py",
   "mimetype": "text/x-python",
   "name": "python",
   "nbconvert_exporter": "python",
   "pygments_lexer": "ipython3",
   "version": "3.8.6"
  }
 },
 "nbformat": 4,
 "nbformat_minor": 4
}
