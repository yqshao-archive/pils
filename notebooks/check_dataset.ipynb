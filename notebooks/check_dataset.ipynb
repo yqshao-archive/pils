{
 "cells": [
  {
   "cell_type": "code",
   "execution_count": 18,
   "metadata": {},
   "outputs": [],
   "source": [
    "%matplotlib inline\n",
    "from pinn.io import load_ds\n",
    "from ase.io import write\n",
    "from ase import Atoms\n",
    "import matplotlib.pyplot as plt\n",
    "import numpy as np"
   ]
  },
  {
   "cell_type": "code",
   "execution_count": 50,
   "metadata": {},
   "outputs": [],
   "source": [
    "ds = load_ds('../datasets/pils-v5-filtered.yml')"
   ]
  },
  {
   "cell_type": "code",
   "execution_count": 51,
   "metadata": {},
   "outputs": [],
   "source": [
    "e_list = []\n",
    "f_list = []\n",
    "traj = []\n",
    "for datum in ds.take(2000).as_numpy_iterator():\n",
    "    natoms = len(datum['elems'])\n",
    "    e_list.append(datum['e_data']/natoms)\n",
    "    f_list.append(datum['f_data'].flatten())\n",
    "    traj.append(Atoms(datum['elems'], positions=datum['coord'], cell=datum['cell'], pbc=True))\n",
    "f_list = np.concatenate(f_list)\n",
    "\n"
   ]
  },
  {
   "cell_type": "code",
   "execution_count": 52,
   "metadata": {},
   "outputs": [],
   "source": [
    "write('tmp.xyz', traj)"
   ]
  },
  {
   "cell_type": "code",
   "execution_count": 41,
   "metadata": {},
   "outputs": [],
   "source": [
    "e_list_1 = e_list.copy()"
   ]
  },
  {
   "cell_type": "code",
   "execution_count": 49,
   "metadata": {},
   "outputs": [
    {
     "data": {
      "text/plain": [
       "(array([  3.,   4.,  17.,  30.,  48.,  55.,  86., 124., 113., 102., 118.,\n",
       "        100.,  62.,  46.,  26.,  17.,  10.,   6.,   1.,   3.,   5.,   0.,\n",
       "          1.,   0.,   0.,   3.,   5.,  14.,  22.,  56.,  98., 143., 144.,\n",
       "        158., 132., 107.,  64.,  29.,  22.,   9.,   4.,   1.,   0.,   4.,\n",
       "          1.,   0.,   0.,   0.,   2.,   1.,   0.,   1.,   0.,   1.,   0.,\n",
       "          0.,   0.,   0.,   2.]),\n",
       " array([-4.60176773, -4.60174417, -4.60172061, -4.60169705, -4.60167349,\n",
       "        -4.60164993, -4.60162637, -4.60160281, -4.60157925, -4.60155569,\n",
       "        -4.60153212, -4.60150856, -4.601485  , -4.60146144, -4.60143788,\n",
       "        -4.60141432, -4.60139076, -4.6013672 , -4.60134364, -4.60132008,\n",
       "        -4.60129652, -4.60127296, -4.6012494 , -4.60122584, -4.60120228,\n",
       "        -4.60117872, -4.60115515, -4.60113159, -4.60110803, -4.60108447,\n",
       "        -4.60106091, -4.60103735, -4.60101379, -4.60099023, -4.60096667,\n",
       "        -4.60094311, -4.60091955, -4.60089599, -4.60087243, -4.60084887,\n",
       "        -4.60082531, -4.60080175, -4.60077819, -4.60075462, -4.60073106,\n",
       "        -4.6007075 , -4.60068394, -4.60066038, -4.60063682, -4.60061326,\n",
       "        -4.6005897 , -4.60056614, -4.60054258, -4.60051902, -4.60049546,\n",
       "        -4.6004719 , -4.60044834, -4.60042478, -4.60040122, -4.60037766]),\n",
       " <BarContainer object of 59 artists>)"
      ]
     },
     "execution_count": 49,
     "metadata": {},
     "output_type": "execute_result"
    },
    {
     "data": {
      "image/png": "[encoded data removed]",
      "text/plain": [
       "<Figure size 432x288 with 1 Axes>"
      ]
     },
     "metadata": {
      "needs_background": "light"
     },
     "output_type": "display_data"
    }
   ],
   "source": [
    "plt.hist(e_list_1, 59)\n",
    "plt.hist(e_list, 59)\n"
   ]
  }
 ],
 "metadata": {
  "kernelspec": {
   "display_name": "pinn-tf25",
   "language": "python",
   "name": "pinn-tf25"
  },
  "language_info": {
   "codemirror_mode": {
    "name": "ipython",
    "version": 3
   },
   "file_extension": ".py",
   "mimetype": "text/x-python",
   "name": "python",
   "nbconvert_exporter": "python",
   "pygments_lexer": "ipython3",
   "version": "3.8.6"
  }
 },
 "nbformat": 4,
 "nbformat_minor": 4
}
