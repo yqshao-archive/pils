{
 "cells": [
  {
   "cell_type": "markdown",
   "id": "261d62dd-36b5-4cf4-8c07-a4589e898c7c",
   "metadata": {},
   "source": [
    "## Manual filter of datasets"
   ]
  },
  {
   "cell_type": "code",
   "execution_count": null,
   "id": "3b7075e3-fcd9-4085-b92b-0056726984b0",
   "metadata": {},
   "outputs": [],
   "source": [
    "from pinn.io import load_ds, write_tfrecord\n",
    "def filter_ef(datum):\n",
    "    import tensorflow as tf\n",
    "    return (datum['e_data']<-2944.) and (tf.reduce_max(tf.abs(datum['f_data']))<0.2)\n",
    "ds = load_ds('../pils-v3.yml').filter(filter_ef)"
   ]
  },
  {
   "cell_type": "markdown",
   "id": "f6d6819a-d647-421a-970d-277bf059dfdb",
   "metadata": {},
   "source": [
    "## Generation of geometry from experiments"
   ]
  },
  {
   "cell_type": "code",
   "execution_count": null,
   "id": "002a8f4b-c696-4f06-8223-78865a406451",
   "metadata": {},
   "outputs": [],
   "source": [
    "from ase.io import read, write\n",
    "from glob import glob\n",
    "for comp in ['a0b0i32', 'a32b32i0', 'a16b16i16']:\n",
    "    for rho in ['1.16', '1.08']:\n",
    "        geo = read(f'../exp/trial-adam/prod/gen31/nvt-340k-5ns-0/{comp}-r{rho}/asemd.traj', index='-1')\n",
    "        write(f'../skel/init/trial-geo/{comp}-r{rho}.xyz', geo)"
   ]
  }
 ],
 "metadata": {
  "kernelspec": {
   "display_name": "pinn-tf2",
   "language": "python",
   "name": "pinn-tf2"
  },
  "language_info": {
   "codemirror_mode": {
    "name": "ipython",
    "version": 3
   },
   "file_extension": ".py",
   "mimetype": "text/x-python",
   "name": "python",
   "nbconvert_exporter": "python",
   "pygments_lexer": "ipython3",
   "version": "3.9.5"
  }
 },
 "nbformat": 4,
 "nbformat_minor": 5
}
