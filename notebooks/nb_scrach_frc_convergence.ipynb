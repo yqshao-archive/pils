{
 "cells": [
  {
   "cell_type": "code",
   "execution_count": 8,
   "metadata": {},
   "outputs": [],
   "source": [
    "%matplotlib inline\n",
    "from ase.io import read\n",
    "import matplotlib.pyplot as plt\n",
    "import numpy as np"
   ]
  },
  {
   "cell_type": "code",
   "execution_count": 39,
   "metadata": {},
   "outputs": [],
   "source": [
    "ds_train = read('../ck-cp2k-frc/ds.traj', index=':')\n",
    "ds_sp = read('../ck-cp2k-frc/sp-prod/sp-prod.traj', index=':')\n",
    "ds_tight = read('../ck-cp2k-frc/sp-tight/sp-tight.traj', index=':')\n",
    "ds_hicut = read('../ck-cp2k-frc/sp-hicut/sp-hicut.traj', index=':')\n",
    "\n",
    "frc = lambda traj: np.array([atoms.get_forces().sum(axis=0) for atoms in traj]).flatten()/51.42208619083232"
   ]
  },
  {
   "cell_type": "code",
   "execution_count": 42,
   "metadata": {},
   "outputs": [
    {
     "data": {
      "text/plain": [
       "(array([ 3.,  1.,  3.,  4.,  6.,  8., 16., 23., 34., 35., 44., 36., 26.,\n",
       "        25., 14.,  7.,  8.,  3.,  3.,  1.]),\n",
       " array([-0.00384542, -0.00348411, -0.00312281, -0.00276151, -0.0024002 ,\n",
       "        -0.0020389 , -0.0016776 , -0.00131629, -0.00095499, -0.00059369,\n",
       "        -0.00023238,  0.00012892,  0.00049022,  0.00085153,  0.00121283,\n",
       "         0.00157413,  0.00193544,  0.00229674,  0.00265804,  0.00301935,\n",
       "         0.00338065]),\n",
       " <BarContainer object of 20 artists>)"
      ]
     },
     "execution_count": 42,
     "metadata": {},
     "output_type": "execute_result"
    },
    {
     "data": {
      "image/png": "[encoded data removed]",
      "text/plain": [
       "<Figure size 432x288 with 1 Axes>"
      ]
     },
     "metadata": {
      "needs_background": "light"
     },
     "output_type": "display_data"
    }
   ],
   "source": [
    "bins = 20 # np.linspace(-0.02,0.02,40)\n",
    "plt.hist(frc(ds_train), bins);\n",
    "plt.hist(frc(ds_sp), bins, histtype='step', lw=2);\n",
    "plt.hist(frc(ds_tight), bins, histtype='step', lw=2)\n",
    "plt.hist(frc(ds_hicut), bins, lw=2)"
   ]
  },
  {
   "cell_type": "code",
   "execution_count": 43,
   "metadata": {},
   "outputs": [
    {
     "data": {
      "text/plain": [
       "(array([ 1.,  0.,  3.,  3., 10., 10., 17., 24., 23., 34., 30., 41., 30.,\n",
       "        23., 15., 18.,  4.,  6.,  5.,  3.]),\n",
       " array([-1.01032055e-02, -9.17675340e-03, -8.25030132e-03, -7.32384923e-03,\n",
       "        -6.39739714e-03, -5.47094506e-03, -4.54449297e-03, -3.61804088e-03,\n",
       "        -2.69158880e-03, -1.76513671e-03, -8.38684625e-04,  8.77674608e-05,\n",
       "         1.01421955e-03,  1.94067163e-03,  2.86712372e-03,  3.79357581e-03,\n",
       "         4.72002789e-03,  5.64647998e-03,  6.57293206e-03,  7.49938415e-03,\n",
       "         8.42583624e-03]),\n",
       " <BarContainer object of 20 artists>)"
      ]
     },
     "execution_count": 43,
     "metadata": {},
     "output_type": "execute_result"
    },
    {
     "data": {
      "image/png": "[encoded data removed]",
      "text/plain": [
       "<Figure size 432x288 with 1 Axes>"
      ]
     },
     "metadata": {
      "needs_background": "light"
     },
     "output_type": "display_data"
    }
   ],
   "source": [
    "plt.hist(frc(ds_hicut)-frc(ds_sp), 20, lw=2)"
   ]
  }
 ],
 "metadata": {
  "kernelspec": {
   "display_name": "pinn-tf2",
   "language": "python",
   "name": "pinn-tf2"
  },
  "language_info": {
   "codemirror_mode": {
    "name": "ipython",
    "version": 3
   },
   "file_extension": ".py",
   "mimetype": "text/x-python",
   "name": "python",
   "nbconvert_exporter": "python",
   "pygments_lexer": "ipython3",
   "version": "3.9.5"
  }
 },
 "nbformat": 4,
 "nbformat_minor": 4
}
