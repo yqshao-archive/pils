{
 "cells": [
  {
   "cell_type": "code",
   "execution_count": 11,
   "id": "3b7075e3-fcd9-4085-b92b-0056726984b0",
   "metadata": {},
   "outputs": [],
   "source": [
    "from pinn.io import load_ds, write_tfrecord\n",
    "def filter_ef(datum):\n",
    "    import tensorflow as tf\n",
    "    return (datum['e_data']<-2944.) and (tf.reduce_max(tf.abs(datum['f_data']))<0.2)\n",
    "ds = load_ds('../pils-v3.yml').filter(filter_ef)"
   ]
  },
  {
   "cell_type": "code",
   "execution_count": 13,
   "id": "6d3f92d5-a5e7-4f13-ab98-9209bd716fbc",
   "metadata": {},
   "outputs": [
    {
     "name": "stdout",
     "output_type": "stream",
     "text": [
      " 239997 samples written to ../pils-v3-filtered.tfr, done.\n"
     ]
    }
   ],
   "source": [
    "write_tfrecord('../pils-v3-filtered.yml', ds)"
   ]
  }
 ],
 "metadata": {
  "kernelspec": {
   "display_name": "pinn-tf2",
   "language": "python",
   "name": "pinn-tf2"
  },
  "language_info": {
   "codemirror_mode": {
    "name": "ipython",
    "version": 3
   },
   "file_extension": ".py",
   "mimetype": "text/x-python",
   "name": "python",
   "nbconvert_exporter": "python",
   "pygments_lexer": "ipython3",
   "version": "3.9.5"
  }
 },
 "nbformat": 4,
 "nbformat_minor": 5
}
