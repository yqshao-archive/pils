{
 "cells": [
  {
   "cell_type": "code",
   "execution_count": 4,
   "id": "67badb51-22d6-4c75-8f5c-4aff444a8992",
   "metadata": {},
   "outputs": [],
   "source": [
    "%matplotlib inline\n",
    "from glob import glob\n",
    "\n",
    "import matplotlib.pyplot as plt\n",
    "import numpy as np"
   ]
  },
  {
   "cell_type": "markdown",
   "id": "fb866148-d85f-4c5e-bded-ca1af1cfcef3",
   "metadata": {},
   "source": [
    "# Self-diffusion & Conductivity (MSD)"
   ]
  },
  {
   "cell_type": "code",
   "execution_count": 12,
   "id": "e30b4652-ebbe-4e37-b2e5-d747a5585093",
   "metadata": {},
   "outputs": [],
   "source": [
    "# select what to plot\n",
    "rho = 1.0753  # 1.1551 # 1.0753\n",
    "r = f\"{rho:.2f}\"\n",
    "T = 340\n",
    "geos = [\"a32b32i0\", \"a16b16i16\", \"a0b0i32\"]\n",
    "maxt = 1200\n",
    "mint = 100"
   ]
  },
  {
   "cell_type": "code",
   "execution_count": 13,
   "id": "57381aeb-a28c-4ed6-bf87-25df0f7f9c2c",
   "metadata": {},
   "outputs": [
    {
     "name": "stdout",
     "output_type": "stream",
     "text": [
      "PiNN-pinet2-revpbe\t&  0.96(0.09) &  1.06(0.07) &  0.97(0.09) &  6.63(1.67) &  0.89(0.02)\n",
      "PiNN-pinet2-revpbe-c\t&  0.82(0.09) &  0.94(0.14) &  0.87(0.08) &  4.58(1.62) &  0.91(0.03)\n",
      "PiNN-pinet2-scan\t&  3.18(0.14) &  3.68(0.11) &  3.08(0.14) & 16.06(7.18) &  0.92(0.04)\n",
      "PiNN-pinet2-scan-c\t&  2.94(0.32) &  3.39(0.31) &  2.95(0.34) &  5.50(3.02) &  0.97(0.02)\n"
     ]
    }
   ],
   "source": [
    "def report_msd(data, pdata, rho):\n",
    "    # constants\n",
    "    NA = 6.022e23\n",
    "    MW = (60.052 + 82.10) * 1e-3\n",
    "    q = 1.602176634e-19\n",
    "    T = 300\n",
    "    kB = 1.380649e-23\n",
    "    ne_pre = rho * 1e3 / MW * q**2 / (kB * T) * NA * 10 * 1e-10 * 100 / 6\n",
    "    gk_pre = rho * 1e3 / MW * q**2 / (kB * T) * NA * 10 / 32 * 1e-10 * 100 / 6\n",
    "\n",
    "    maxs = np.sum(data[0][:, 0] < maxt)\n",
    "    mins = np.sum(data[0][:, 0] < mint)\n",
    "    data = np.array(data)\n",
    "    pdata = np.array(pdata)\n",
    "    t = data[0, mins:maxs, 0]\n",
    "    msds = data[:, mins:maxs, 1:]\n",
    "    pmsd = pdata[:, mins:maxs, 1]\n",
    "    # D_slopes = (msds[:, -1, :] -msds[:, 0, :]) / (t[-1]- t[0])\n",
    "    D_slopes = np.array([np.polyfit(t, msd, 1)[0] for msd in msds])\n",
    "    P_slope = np.array([np.polyfit(t, msd, 1)[0] for msd in pmsd])\n",
    "    D_pre = 1.0 / 6.0 * 1e2\n",
    "\n",
    "    fmt = lambda x: f\"{np.mean(x):5.2f}({np.std(x):.2f})\"\n",
    "    D_H = f\"& {fmt(D_slopes[:,0]*D_pre)}\"\n",
    "    D_O = f\"& {fmt(D_slopes[:,1]*D_pre)}\"\n",
    "    D_N = f\"& {fmt(D_slopes[:,2]*D_pre)}\"\n",
    "    S_GK = f\"& {fmt(P_slope * gk_pre)}\"\n",
    "    S_NE = f\"S_NE:{fmt((D_slopes[:,2]+D_slopes[:,1]) * ne_pre )}\"\n",
    "    Delta = f\"& {fmt(1-(P_slope * gk_pre)/((D_slopes[:,2]+D_slopes[:,1]) * ne_pre))}\"\n",
    "    print(D_H, D_N, D_O, S_GK, Delta)\n",
    "\n",
    "\n",
    "for tag in [\"pinet2-revpbe\", \"pinet2-scan\"]:\n",
    "    exp = f\"../exp/{tag}\"\n",
    "    cp2k = f\"nvt-{tag}\"\n",
    "    ana = f\"{exp}/analyses\"\n",
    "\n",
    "    data_cons = [\n",
    "        np.load(f)\n",
    "        for f in glob(f\"{exp}/const/analyses/*/msd-0-5ns/msd.npy\")\n",
    "    ]\n",
    "    data_prod = [\n",
    "        np.load(f\"{exp}/analyses/prod/nvt-{T}k-5ns-0/{geo}-r{r}/msd-0-5ns/msd.npy\")\n",
    "        for geo in geos\n",
    "    ]\n",
    "\n",
    "    pdata_cons = [\n",
    "        np.load(f)\n",
    "        for f in glob(f\"{exp}/const/analyses/*/msd-0-5ns/pmsd.npy\")\n",
    "    ]\n",
    "    pdata_prod = [\n",
    "        np.load(f\"{exp}/analyses/prod/nvt-{T}k-5ns-0/{geo}-r{r}/msd-0-5ns/pmsd.npy\")\n",
    "        for geo in geos\n",
    "    ]\n",
    "    print(f\"PiNN-{tag}\", end=\"\\t\")\n",
    "    report_msd(data_prod, pdata_prod, rho)\n",
    "    print(f\"PiNN-{tag}-c\", end=\"\\t\")\n",
    "    report_msd(data_cons, pdata_cons, rho)"
   ]
  },
  {
   "cell_type": "code",
   "execution_count": 99,
   "id": "ba685cf2-70ef-4fe3-a8ed-a2686cde90f8",
   "metadata": {},
   "outputs": [
    {
     "name": "stdout",
     "output_type": "stream",
     "text": [
      "12.70, 5.01, 67.68 \n",
      "22.35, 2.58, 74.69 \n",
      "11.90, 5.54, 340.83 \n",
      "17.46, 8.09, 253.12 \n",
      "8.67, 4.13, 115.68 \n",
      "12.06, 5.66, 84.10 \n"
     ]
    }
   ],
   "source": [
    "from scipy.optimize import curve_fit\n",
    "\n",
    "\n",
    "def fit(t, prob):\n",
    "    def f(x, A, t1, t2):\n",
    "        return A * np.exp(-x / t1) + (1 - A) * np.exp(-x / t2)\n",
    "\n",
    "    (A, t1, t2), _ = curve_fit(f, t, prob, p0=[0.5,10,1], maxfev=5000)\n",
    "    # print(A, t1, t2)\n",
    "    return A * t1 + (1 - A) * t2\n",
    "\n",
    "\n",
    "pre_scan = \"../exp/scan/analyses/cp2k/a*-rho1.0753\"\n",
    "pre_scan_acle_300 = \"../exp/scan/analyses/prod/nvt-300k-5ns-0/a*-r1.08/\"\n",
    "pre_scan_acle_340 = \"../exp/scan/analyses/prod/nvt-340k-5ns-0/a*-r1.08/\"\n",
    "pre_revpbe = \"../exp/hicut/analyses/cp2k/a*-rho1.0753\"\n",
    "pre_revpbe_acle_300 = \"../exp/hicut/analyses/prod/nvt-300k-5ns-0/a*-r1.08/\"\n",
    "pre_revpbe_acle_340 = \"../exp/hicut/analyses/prod/nvt-340k-5ns-0/a*-r1.08/\"\n",
    "\n",
    "\n",
    "for pre in [\n",
    "    pre_scan,\n",
    "    pre_revpbe,\n",
    "    pre_scan_acle_300,\n",
    "    pre_revpbe_acle_300,\n",
    "    pre_scan_acle_340,\n",
    "    pre_revpbe_acle_340,\n",
    "]:\n",
    "    files = glob(f\"{pre}/persist.dat\")\n",
    "    t, a, b, p = np.mean([np.loadtxt(f) for f in files], axis=0).T\n",
    "    print(f\"{fit(t, a/a[0]):.2f}, {fit(t, b/b[0]):.2f}, {fit(t, p/p[0]):.2f} \")"
   ]
  },
  {
   "cell_type": "code",
   "execution_count": 127,
   "id": "fe97e581-06f4-4ac6-b4fd-06c4e61f6ef8",
   "metadata": {},
   "outputs": [
    {
     "name": "stdout",
     "output_type": "stream",
     "text": [
      "6.713990954047353\n"
     ]
    }
   ],
   "source": [
    "k1 = 8.67\n",
    "k2 = 11.90\n",
    "T1 = 300\n",
    "T2 = 340\n",
    "R = 8.31446261815324\n",
    "\n",
    "Eact= - (np.log(k1/k2)*R)/(1/T1-1/T2)\n",
    "print(Eact/1000)"
   ]
  }
 ],
 "metadata": {
  "kernelspec": {
   "display_name": "Python3",
   "language": "python",
   "name": "python3"
  },
  "language_info": {
   "codemirror_mode": {
    "name": "ipython",
    "version": 3
   },
   "file_extension": ".py",
   "mimetype": "text/x-python",
   "name": "python",
   "nbconvert_exporter": "python",
   "pygments_lexer": "ipython3",
   "version": "3.9.7"
  }
 },
 "nbformat": 4,
 "nbformat_minor": 5
}
