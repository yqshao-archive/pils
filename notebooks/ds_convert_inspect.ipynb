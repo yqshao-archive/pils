{
 "cells": [
  {
   "cell_type": "markdown",
   "id": "449375c8-ab25-4f4d-a900-37d0b74b7258",
   "metadata": {},
   "source": [
    "# Dataset convertion and inspect"
   ]
  },
  {
   "cell_type": "code",
   "execution_count": 10,
   "id": "abb13e7a-edb8-4c96-9c19-8cfb99a10550",
   "metadata": {},
   "outputs": [],
   "source": [
    "%matplotlib inline\n",
    "import logging\n",
    "import numpy as np\n",
    "import tensorflow as tf\n",
    "import matplotlib.pyplot as plt\n",
    "from tips.io import load_ds\n",
    "from glob import glob\n",
    "from pathlib import Path\n",
    "logger = logging.getLogger('tips')\n",
    "logger.setLevel('INFO')\n",
    "tf.get_logger().setLevel('INFO')"
   ]
  },
  {
   "cell_type": "code",
   "execution_count": 2,
   "id": "0fe8bfbd-cfef-455f-a2a2-dad95beeb171",
   "metadata": {},
   "outputs": [],
   "source": [
    "key2name = {\n",
    "    'hoac-c1im-a32b32i0-rho1.0753':   '0%-1.08',\n",
    "    'hoac-c1im-a16b16i16-rho1.0753': '50%-1.08',\n",
    "    'hoac-c1im-a0b0i32-rho1.0753':  '100%-1.08',\n",
    "    'hoac-c1im-a32b32i0-rho1.1551':   '0%-1.16',\n",
    "    'hoac-c1im-a16b16i16-rho1.1551': '50%-1.16',\n",
    "    'hoac-c1im-a0b0i32-rho1.1551':  '100%-1.16',\n",
    "}"
   ]
  },
  {
   "cell_type": "markdown",
   "id": "a26be408-4406-4595-8f91-77e04124faa3",
   "metadata": {},
   "source": [
    "## To get the PiNN formatted datasets from CP2K logs...\n",
    "\n",
    "```bash\n",
    "#!/bin/bash\n",
    "projs=();for f in nvt-*/*; do projs+=($f/cp2k-md); done; echo ${projs[@]}\n",
    "tips convert ${projs[@]} -f cp2k -of pinn -o pils-40ps --shuffle\n",
    "```"
   ]
  },
  {
   "cell_type": "code",
   "execution_count": 3,
   "id": "241580a2-9640-410d-8dff-25709afda5fa",
   "metadata": {},
   "outputs": [
    {
     "name": "stdout",
     "output_type": "stream",
     "text": [
      "hoac-c1im-a32b32i0-rho1.1551 ['elem', 'coord', 'force', 'cell', 'energy']\n",
      "hoac-c1im-a16b16i16-rho1.1551 ['elem', 'coord', 'force', 'cell', 'energy']\n",
      "hoac-c1im-a0b0i32-rho1.0753 ['elem', 'coord', 'force', 'cell', 'energy']\n",
      "hoac-c1im-a32b32i0-rho1.0753 ['elem', 'coord', 'force', 'cell', 'energy']\n",
      "hoac-c1im-a16b16i16-rho1.0753 ['elem', 'coord', 'force', 'cell', 'energy']\n",
      "hoac-c1im-a0b0i32-rho1.1551 ['elem', 'coord', 'force', 'cell', 'energy']\n"
     ]
    }
   ],
   "source": [
    "inits = set([Path(init).name for init in glob('../trajs/cp2k/nvt-*/*/')])\n",
    "ds_all = {}\n",
    "for init in inits:\n",
    "    projs = [Path(proj)/'cp2k-md' for proj in glob(f'../trajs/cp2k/nvt-*/{init}/')]\n",
    "    ds_all[init] = load_ds(projs, fmt='cp2k')\n",
    "    print(init, list(ds_all[init].meta['spec'].keys()))"
   ]
  },
  {
   "cell_type": "code",
   "execution_count": 4,
   "id": "75a8a456-766f-4be3-9274-3c26b853218a",
   "metadata": {},
   "outputs": [
    {
     "name": "stdout",
     "output_type": "stream",
     "text": [
      "hoac-c1im-a32b32i0-rho1.1551 -125.20063044512953 4.2348605511069355\n",
      "hoac-c1im-a16b16i16-rho1.1551 -125.19964734995729 4.069119162924314\n",
      "hoac-c1im-a0b0i32-rho1.0753 -125.21989787381638 4.394051637467469\n",
      "hoac-c1im-a32b32i0-rho1.0753 -125.21581971026419 4.257920348557383\n",
      "hoac-c1im-a16b16i16-rho1.0753 -125.21827252603813 4.4019095046554675\n",
      "hoac-c1im-a0b0i32-rho1.1551 -125.20399093449569 3.690855946154835\n"
     ]
    }
   ],
   "source": [
    "for init in inits:\n",
    "    #load_ds(f'../trajs/cp2k/nvt-30-40ps/{init}/cp2k-md', fmt='cp2k')[-1:].convert(init, fmt='extxyz')\n",
    "    datum = load_ds(f'../trajs/cp2k/nvt-30-40ps/{init}/cp2k-md', fmt='cp2k')[-1]\n",
    "    print(init, datum['energy']/640, np.abs(datum['force']).max())\n"
   ]
  },
  {
   "cell_type": "code",
   "execution_count": 5,
   "id": "ef2d9b64-46b5-4058-8ee0-5489d0529e9f",
   "metadata": {},
   "outputs": [
    {
     "name": "stdout",
     "output_type": "stream",
     "text": [
      "m32i0-r1.08.xyz\n",
      "m16i16-r1.16.xyz\n",
      "m16i16-r1.08.xyz\n",
      "m0i32-r1.08.xyz\n",
      "m0i32-r1.16.xyz\n",
      "m32i0-r1.16.xyz\n"
     ]
    }
   ],
   "source": [
    "from ase.io import read\n",
    "from ase import Atoms, neighborlist\n",
    "from scipy import sparse\n",
    "for f in glob('m*.xyz'):\n",
    "    atoms =read(f)\n",
    "    (heavy,) = np.where(atoms.numbers != 1)\n",
    "    (hydro,) = np.where(atoms.numbers == 1)\n",
    "    natoms = len(atoms)\n",
    "    heavya2r = lambda x: heavy.tolist().index(x)\n",
    "\n",
    "    cutoff = {\n",
    "        (\"H\", \"C\"): 2,\n",
    "        (\"H\", \"N\"): 2,\n",
    "        (\"H\", \"O\"): 2,\n",
    "        (\"C\", \"C\"): 2,\n",
    "        (\"C\", \"N\"): 2,\n",
    "        (\"C\", \"O\"): 2,\n",
    "    }\n",
    "\n",
    "    # build initial nl, see ase doc [ase/neighborlsit] ===================================\n",
    "    nl_i, nl_j, nl_d = neighborlist.neighbor_list(\"ijd\", atoms, cutoff, self_interaction=False)\n",
    "    conMat = sparse.dok_matrix((natoms, natoms), dtype=np.int8)\n",
    "    conMat[nl_i, nl_j] = 1  # we have several running indices here prefixed by (nl, mol, h)\n",
    "    conMat[nl_j, nl_i] = 1  # v---- shamelessly taken from the ase documentation\n",
    "    n_mol, mol_assign = sparse.csgraph.connected_components(conMat[heavy, :][:, heavy])\n",
    "    symbs = [str(atoms[heavy][mol_assign == mol_i].symbols) for mol_i in range(n_mol)]\n",
    "    cnt_mol = [symbs.count(k) for k in set(symbs)]\n",
    "    assert set(symbs) == set([\"C2O2\", \"CNC2NC\"]), f\"broken molecules: {set(symbs)}\"\n",
    "    type_mol = np.array([\"N\" in symb for symb in symbs], int)\n",
    "    print(f)"
   ]
  },
  {
   "cell_type": "code",
   "execution_count": 8,
   "id": "3d05db1e-d1c3-432e-b1fd-cd2e3c535e30",
   "metadata": {},
   "outputs": [],
   "source": [
    "energy_stat, force_stat, labels = [], [], []\n",
    "\n",
    "for k in sorted(ds_all.keys()):\n",
    "    labels.append(key2name[k])\n",
    "    e_stat, f_stat = [], []\n",
    "    for datum in ds_all[k].shuffle()[:5000]:\n",
    "        e_stat.append(datum['energy'])\n",
    "        f_stat.append(datum['force'].ravel())\n",
    "    energy_stat.append(np.array(e_stat))\n",
    "    force_stat.append(np.concatenate(f_stat))"
   ]
  },
  {
   "cell_type": "code",
   "execution_count": 15,
   "id": "78f4fe07-ca1f-4fdb-bd6b-e34c1d9f19d8",
   "metadata": {},
   "outputs": [
    {
     "name": "stderr",
     "output_type": "stream",
     "text": [
      "Indexing a generator based dataset, this can be slow.\n"
     ]
    }
   ],
   "source": [
    "e_stat, f_stat = [], []\n",
    "for datum in load_ds('../datasets//pils-40ps.yml', fmt='pinn')[:5000]:\n",
    "    e_stat.append(datum['energy'])\n",
    "    f_stat.append(datum['force'].ravel())\n",
    "energy_stat_gen=np.array(e_stat)\n",
    "force_stat_gen=np.concatenate(f_stat)"
   ]
  },
  {
   "cell_type": "code",
   "execution_count": 17,
   "id": "c54e73eb-1d62-492e-9587-e58570734af2",
   "metadata": {},
   "outputs": [
    {
     "data": {
      "image/png": "[encoded data removed]",
      "text/plain": [
       "<Figure size 288x432 with 2 Axes>"
      ]
     },
     "metadata": {
      "needs_background": "light"
     },
     "output_type": "display_data"
    }
   ],
   "source": [
    "f, (ax1, ax2) = plt.subplots(2, 1, figsize=[4,6])\n",
    "\n",
    "\n",
    "ax1.hist([stat/640. for stat in energy_stat], \n",
    "         bins=100, stacked=True, label=labels, density=True)\n",
    "\n",
    "ax1.hist(energy_stat_gen/640., bins=100, color='k', ls='--', histtype='step', fill=False, density=True)\n",
    "ax2.hist([stat for stat in force_stat], \n",
    "         bins=100, stacked=True, label=labels, density=True)\n",
    "ax2.hist(force_stat_gen, bins=100, color='k', ls='--', histtype='step', fill=False, density=True)\n",
    "\n",
    "ax1.legend()\n",
    "ax1.set_xlabel('Pot. Ener. [eV/atom]')\n",
    "#ax1.set_yscale('log')\n",
    "ax2.set_yscale('log')"
   ]
  },
  {
   "cell_type": "code",
   "execution_count": null,
   "id": "f00fef42-ff31-49a3-905e-6d515df1944a",
   "metadata": {},
   "outputs": [],
   "source": []
  }
 ],
 "metadata": {
  "kernelspec": {
   "display_name": "pinn-tf2",
   "language": "python",
   "name": "pinn-tf2"
  },
  "language_info": {
   "codemirror_mode": {
    "name": "ipython",
    "version": 3
   },
   "file_extension": ".py",
   "mimetype": "text/x-python",
   "name": "python",
   "nbconvert_exporter": "python",
   "pygments_lexer": "ipython3",
   "version": "3.9.5"
  }
 },
 "nbformat": 4,
 "nbformat_minor": 5
}
