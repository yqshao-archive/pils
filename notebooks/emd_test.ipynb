{
 "cells": [
  {
   "cell_type": "code",
   "execution_count": null,
   "metadata": {},
   "outputs": [],
   "source": [
    "import os\n",
    "import pinn\n",
    "import tensorflow as tf\n",
    "from ase.calculators.calculator import all_properties\n",
    "del all_properties[10:]\n",
    "all_properties+=[f'{prop}_{extra}' for prop in ['energy', 'forces', 'stress'] for extra in ['avg','std','bias']]\n",
    "from ase import units\n",
    "from ase.io import read\n",
    "from ase.io.trajectory import Trajectory\n",
    "from ase.md import MDLogger\n",
    "from tips.bias import EnsembleBiasedCalculator\n",
    "from ase.md.velocitydistribution import MaxwellBoltzmannDistribution\n",
    "from ase.md.nptberendsen import NPTBerendsen\n",
    "from ase.md.nvtberendsen import NVTBerendsen\n",
    "from glob import glob\n",
    "\n",
    "tf.get_logger().setLevel('WARNING')\n",
    "setup = {\n",
    "  'ensemble': 'nvt', # ensemble\n",
    "  'T': 340, # temperature in K\n",
    "  't': 50, # time in ps\n",
    "  'dt': 0.5, # timestep is fs\n",
    "  'taut': 100, # thermostat damping in steps\n",
    "  'taup': 1000, # barastat dampling in steps\n",
    "  'log-every': 20, # log interval in steps\n",
    "  'pressure': 1, # pressure in bar\n",
    "  'compressibility': 4.57e-4, # compressibility in bar^{-1}\n",
    "  'bias': None,\n",
    "  'kb': 0,\n",
    "  'sigma0': 0,\n",
    "}"
   ]
  },
  {
   "cell_type": "code",
   "execution_count": null,
   "metadata": {},
   "outputs": [
    {
     "name": "stdout",
     "output_type": "stream",
     "text": [
      "WARNING:tensorflow:From /cephyr/users/yunqi/Alvis/pinn-tf25/lib/python3.8/site-packages/pinn/calculator.py:65: calling DatasetV2.from_generator (from tensorflow.python.data.ops.dataset_ops) with output_types is deprecated and will be removed in a future version.\n",
      "Instructions for updating:\n",
      "Use output_signature instead\n",
      "WARNING:tensorflow:From /cephyr/users/yunqi/Alvis/pinn-tf25/lib/python3.8/site-packages/pinn/calculator.py:65: calling DatasetV2.from_generator (from tensorflow.python.data.ops.dataset_ops) with output_shapes is deprecated and will be removed in a future version.\n",
      "Instructions for updating:\n",
      "Use output_signature instead\n"
     ]
    },
    {
     "name": "stderr",
     "output_type": "stream",
     "text": [
      "/cephyr/users/yunqi/Alvis/pinn-tf25/lib/python3.8/site-packages/ase/md/md.py:48: FutureWarning: Specify the temperature in K using the 'temperature_K' argument\n",
      "  warnings.warn(FutureWarning(w))\n"
     ]
    },
    {
     "name": "stdout",
     "output_type": "stream",
     "text": [
      "WARNING:tensorflow:From /apps/Arch/software/TensorFlow/2.5.0-fosscuda-2020b/lib/python3.8/site-packages/tensorflow/python/ops/array_ops.py:5043: calling gather (from tensorflow.python.ops.array_ops) with validate_indices is deprecated and will be removed in a future version.\n",
      "Instructions for updating:\n",
      "The `validate_indices` argument has no effect. Indices are always validated on CPU and never validated on GPU.\n"
     ]
    }
   ],
   "source": [
    "!rm -f asemd.{log,traj}\n",
    "\n",
    "ensemble=setup['ensemble']\n",
    "T=float(setup['T'])\n",
    "t=float(setup['t'])*units.fs*1e3\n",
    "dt=float(setup['dt'])*units.fs\n",
    "taut=int(setup['taut'])\n",
    "taup=int(setup['taup'])\n",
    "every=int(setup['log-every'])\n",
    "pressure=float(setup['pressure'])\n",
    "compressibility=float(setup['compressibility'])\n",
    "\n",
    "models = glob('/cephyr/users/yunqi/Alvis/pt_pils/models/pils-v5-filtered-pinet-ekf-v3-pre*/model')\n",
    "calcs = [pinn.get_calc(model) for model in models]\n",
    "calc = EnsembleBiasedCalculator(calcs, bias='heaviside', kb=10)\n",
    "\n",
    "atoms = read(\"../skel/init/hoac-c1im-a32b32i0-rho1.0753.xyz\")\n",
    "atoms.set_calculator(calc)\n",
    "MaxwellBoltzmannDistribution(atoms, T*units.kB)\n",
    "\n",
    "if ensemble == 'npt':\n",
    "    dyn = NPTBerendsen(atoms, timestep=dt, temperature=T, pressure=pressure,\n",
    "                  taut=dt * taut, taup=dt * taup, compressibility=compressibility)\n",
    "if ensemble == 'nvt':\n",
    "    dyn = NVTBerendsen(atoms, timestep=dt, temperature=T, taut=dt * taut)\n",
    "\n",
    "dyn.attach(\n",
    "    MDLogger(dyn, atoms, 'asemd.log',stress=True, mode=\"w\"),\n",
    "    interval=int(every))\n",
    "dyn.attach(\n",
    "    Trajectory('asemd.traj', 'w', atoms).write,\n",
    "    interval=int(every))\n",
    "dyn.run(int(t/dt))"
   ]
  }
 ],
 "metadata": {
  "kernelspec": {
   "display_name": "pinn-tf25",
   "language": "python",
   "name": "pinn-tf25"
  },
  "language_info": {
   "codemirror_mode": {
    "name": "ipython",
    "version": 3
   },
   "file_extension": ".py",
   "mimetype": "text/x-python",
   "name": "python",
   "nbconvert_exporter": "python",
   "pygments_lexer": "ipython3",
   "version": "3.8.6"
  }
 },
 "nbformat": 4,
 "nbformat_minor": 4
}
