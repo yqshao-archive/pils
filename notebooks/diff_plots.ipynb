{
 "cells": [
  {
   "cell_type": "code",
   "execution_count": null,
   "id": "aac73002-beeb-40be-887c-015f1055998d",
   "metadata": {},
   "outputs": [],
   "source": [
    "%matplotlib inline\n",
    "import numpy as np\n",
    "import matplotlib.pyplot as plt"
   ]
  },
  {
   "cell_type": "code",
   "execution_count": null,
   "id": "57dc8173-fb90-46e0-921e-ecd508ca3051",
   "metadata": {},
   "outputs": [],
   "source": [
    "for geo in ['a32b32i0', 'a16b16i16', 'a0b0i32']:\n",
    "    data = np.load(f'../analyses/diff/cp2k/{geo}-rho1.0753-msd-10-60ps/msd.npy')\n",
    "    plt.plot(data[:,0], data[:,2],'k:')\n",
    "    data = np.load(f'../analyses/diff/trial/{geo}-r1.08-msd-10-60ps/msd.npy')\n",
    "    plt.plot(data[:,0], data[:,2],'r:')\n",
    "    data = np.load(f'../analyses/diff/trial/{geo}-r1.08-msd-0-5ns/msd.npy')\n",
    "    plt.plot(data[:,0], data[:,2],'g:')\n",
    "plt.xlim(0, 50)\n",
    "plt.ylim(0, 10)\n",
    "\n",
    "# plt.xscale('log')\n",
    "# plt.yscale('log')\n",
    "# plt.axis('equal')"
   ]
  }
 ],
 "metadata": {
  "kernelspec": {
   "display_name": "pinn-tf2",
   "language": "python",
   "name": "pinn-tf2"
  },
  "language_info": {
   "codemirror_mode": {
    "name": "ipython",
    "version": 3
   },
   "file_extension": ".py",
   "mimetype": "text/x-python",
   "name": "python",
   "nbconvert_exporter": "python",
   "pygments_lexer": "ipython3",
   "version": "3.9.5"
  }
 },
 "nbformat": 4,
 "nbformat_minor": 5
}
