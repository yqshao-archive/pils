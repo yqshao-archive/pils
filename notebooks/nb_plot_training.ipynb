{
 "cells": [
  {
   "cell_type": "code",
   "execution_count": null,
   "metadata": {},
   "outputs": [],
   "source": [
    "f, (ax1, ax2) = plt.subplots(2, 1, figsize=(4, 4),sharex=True, facecolor=\"none\")\n",
    "\n",
    "for name, tag in [\n",
    "    ('pils-v2-*-adam-v2', 'SparseDS-Adam'),\n",
    "    ('pils-v2-*-ekf-v3', 'SparseDS-EKF'),\n",
    "    # ('pils-v2-*-ekf-v4', 'SparseDS-EKF-1-1000'),\n",
    "    # ('pils-v2-*-ekf-v5', 'SparseDS-EKF-1-10000'),\n",
    "    ('pils-v5-*-adam-v2-pre', 'DenseDS-Adam'),\n",
    "    ('pils-v5-*-ekf-v3-pre', 'DenseDS-EKF'),\n",
    "]:\n",
    "    logs = glob(f'../models/{name}-*/pinn.log')\n",
    "    color = next(ax1._get_lines.prop_cycler)['color']\n",
    "    for log in logs:\n",
    "        step, e_err, _, f_err = np.loadtxt(log).T\n",
    "        ax1.plot(step, e_err*1e3, label=tag, color=color)\n",
    "        ax2.plot(step, f_err*1e3, label=tag, color=color)\n",
    "        \n",
    "        \n",
    "ax1.set_ylabel('E RMSE [meV/atom]')\n",
    "ax2.set_ylabel('F RMSE [meV/$\\AA$]')\n",
    "ax1.grid(':')\n",
    "ax2.grid(':')\n",
    "ax1.set_yscale('log')\n",
    "ax1.set_xscale('log')\n",
    "ax2.set_yscale('log')\n",
    "ax2.set_xscale('log')\n",
    "ax1.set_ylim([0.5,50])\n",
    "ax2.set_ylim([20,500])\n",
    "\n",
    "unique_legend(ax1, bbox_to_anchor=[1,1], loc=2)\n",
    "plt.savefig('training-log.png', facecolor='w')"
   ]
  },
  {
   "cell_type": "code",
   "execution_count": null,
   "metadata": {},
   "outputs": [],
   "source": [
    "%matplotlib inline\n",
    "import matplotlib.pyplot as plt\n",
    "import numpy as np\n",
    "from glob import glob\n",
    "\n",
    "def unique_legend(ax, **kwargs):\n",
    "    handles, labels = ax.get_legend_handles_labels()\n",
    "    unique = [(h, l) for i, (h, l) in enumerate(zip(handles, labels)) if l not in labels[:i]]\n",
    "    ax.legend(*zip(*unique), **kwargs)"
   ]
  }
 ],
 "metadata": {
  "kernelspec": {
   "display_name": "cond-env",
   "language": "python",
   "name": "cond-env"
  },
  "language_info": {
   "codemirror_mode": {
    "name": "ipython",
    "version": 3
   },
   "file_extension": ".py",
   "mimetype": "text/x-python",
   "name": "python",
   "nbconvert_exporter": "python",
   "pygments_lexer": "ipython3",
   "version": "3.7.13"
  }
 },
 "nbformat": 4,
 "nbformat_minor": 4
}
