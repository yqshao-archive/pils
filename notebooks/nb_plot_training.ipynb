{
 "cells": [
  {
   "cell_type": "code",
   "execution_count": 2,
   "metadata": {},
   "outputs": [],
   "source": [
    "%matplotlib inline\n",
    "import re\n",
    "import numpy as np\n",
    "import matplotlib.pyplot as plt\n",
    "import matplotlib.patheffects as pe\n",
    "import numpy as np\n",
    "from glob import glob\n",
    "from tips.io import load_ds\n",
    "\n",
    "def unique_legend(ax, **kwargs):\n",
    "    handles, labels = ax.get_legend_handles_labels()\n",
    "    unique = [(h, l) for i, (h, l) in enumerate(zip(handles, labels)) if l not in labels[:i]]\n",
    "    ax.legend(*zip(*unique), **kwargs)"
   ]
  },
  {
   "cell_type": "code",
   "execution_count": 35,
   "metadata": {},
   "outputs": [],
   "source": [
    "exp = '../exp/prod-adam-run2/'"
   ]
  },
  {
   "cell_type": "code",
   "execution_count": 36,
   "metadata": {},
   "outputs": [],
   "source": [
    "logs = glob(f'{exp}/models/gen*/model1/pinn.log')\n",
    "gen = [int(re.search('gen(\\d+)', l)[1]) for l in logs]\n",
    "err = [np.loadtxt(l)[-1] for l in logs]\n",
    "logs = np.array([[g,*e] for  g, e in zip(gen, err)])\n",
    "pinn_logs = logs[logs[:,0].argsort()]"
   ]
  },
  {
   "cell_type": "code",
   "execution_count": null,
   "metadata": {},
   "outputs": [],
   "source": [
    "logs = glob(f'{exp}/emd/gen*/m0i32-r1.08/asemd.log')\n",
    "gen = [int(re.search('gen(\\d+)', l)[1]) for l in logs]\n",
    "scale = [np.loadtxt(l, skiprows=1)[-1,0] for l in logs]\n",
    "logs = np.array([*zip(gen,scale)])\n",
    "md_logs = logs[logs[:,0].argsort()]"
   ]
  },
  {
   "cell_type": "code",
   "execution_count": null,
   "metadata": {},
   "outputs": [],
   "source": [
    "natom = 640\n",
    "logs = glob(f'{exp}/emd/gen*/m0i32-r1.08/asemd.log')\n",
    "gen = sorted([int(re.search('gen(\\d+)', l)[1]) for l in logs])\n",
    "f_rmse, e_rmse = [], []\n",
    "for g in gen:\n",
    "    e_se = []\n",
    "    f_se = []\n",
    "    for fidx in glob(f'{exp}/merge/gen{g}/*/merged.idx'):\n",
    "        idx = np.loadtxt(fidx, int)\n",
    "        isort = np.argsort(idx)\n",
    "        init = re.search('gen\\d+/(.*)/merged.idx', fidx)[1]\n",
    "        label = load_ds(f'{exp}/merge/gen{g}/{init}/merged.traj', fmt='asetraj')\n",
    "        e_label = np.array([l['energy'] for l in label])[isort] / natom\n",
    "        f_label = np.array([l['force'] for l in label])[isort]\n",
    "        ftraj = f'{exp}/emd/gen{g}/{init}/asemd.traj'\n",
    "        traj = load_ds(ftraj, fmt='asetraj', index=f':{idx[isort[-1]]+1}:{idx[isort[1]]}')\n",
    "        e_model = np.array([datum['energy'] for datum in traj]) / natom\n",
    "        f_model = np.array([datum['force'] for datum in traj])\n",
    "        e_se.append(np.mean((e_model-e_label)**2))\n",
    "        f_se.append(np.mean((f_model-f_label)**2))\n",
    "    f_rmse.append(np.sqrt(np.mean(f_se))*1e3)\n",
    "    e_rmse.append(np.sqrt(np.mean(e_se))*1e3)"
   ]
  },
  {
   "cell_type": "code",
   "execution_count": null,
   "metadata": {},
   "outputs": [],
   "source": [
    "f, (ax1, ax2, ax3) = plt.subplots(3, 1, figsize=[4,4], \n",
    "                                  sharex=True, \n",
    "                                  gridspec_kw={'hspace':0})\n",
    "tax = ax1.twinx()\n",
    "\n",
    "\n",
    "l1, = ax1.plot(pinn_logs[:,0], pinn_logs[:,1]/1e6, 'k.-')\n",
    "l2, = tax.plot(md_logs[:,0], md_logs[:,1], '.-', color='tab:red')\n",
    "l3, = ax2.plot(pinn_logs[:,0], pinn_logs[:,2]*1e3, '.-')\n",
    "l4, = ax2.plot(gen, e_rmse, '.-')\n",
    "l5, = ax3.plot(pinn_logs[:,0], pinn_logs[:,4]*1e3, '.-')\n",
    "l6, = ax3.plot(gen, f_rmse, '.-')\n",
    "\n",
    "ax2.plot([-10,50], [5,5], 'k--', lw=1)\n",
    "ax3.plot([-10,50], [150,150], 'k--', lw=1)\n",
    "\n",
    "ax1.grid()\n",
    "ax2.grid()\n",
    "ax3.grid()\n",
    "\n",
    "tax.set_yscale('log')\n",
    "ax1.set_ylabel('Training Steps\\n [Million]')\n",
    "ax2.set_ylabel('E RMSE\\n [meV/atom]')\n",
    "ax3.set_ylabel('F RMSE\\n [meV/$\\AA$]')\n",
    "ax3.set_xlabel('Generation')\n",
    "tax.tick_params(axis='y', labelcolor='tab:red')\n",
    "tax.set_ylabel('Sampling Time [ps]', color='tab:red')\n",
    "ax1.set_yticks(np.arange(0,8,2))\n",
    "ax2.set_yticks(np.arange(0,10,2.5))\n",
    "ax3.set_yticks(np.arange(125,200,25))\n",
    "tax.set_yticks([1e0, 1e1, 1e2, 1e3])\n",
    "ax1.set_xlim(-2,42)\n",
    "ax1.set_ylim(0.1,9.9)\n",
    "ax2.set_ylim(0.1,10)\n",
    "ax3.set_ylim(81,249)\n",
    "tax.set_ylim(2e-1,2e3)\n",
    "\n",
    "leg1 = ax1.legend([l1, l2], ['Steps', 'Time'], loc=4)\n",
    "leg2 = ax2.legend([l3, l4], ['Eval', 'Test'],)\n",
    "leg3 = ax3.legend([l5, l6], ['Eval', 'Test'], )\n",
    "\n",
    "mype = [pe.withStroke(linewidth=3, foreground='w')]\n",
    "for leg in [leg1, leg2, leg3]:\n",
    "    for t in leg.get_texts():\n",
    "        t.set_path_effects(mype)\n",
    "\n",
    "f.align_ylabels()\n",
    "plt.tight_layout()\n",
    "plt.savefig(f'figs/fig1-logs-{exp.split(\"/\")[-2]}.png')"
   ]
  }
 ],
 "metadata": {
  "kernelspec": {
   "display_name": "pinn-tf2",
   "language": "python",
   "name": "pinn-tf2"
  },
  "language_info": {
   "codemirror_mode": {
    "name": "ipython",
    "version": 3
   },
   "file_extension": ".py",
   "mimetype": "text/x-python",
   "name": "python",
   "nbconvert_exporter": "python",
   "pygments_lexer": "ipython3",
   "version": "3.9.5"
  }
 },
 "nbformat": 4,
 "nbformat_minor": 4
}
