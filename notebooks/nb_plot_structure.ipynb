{
 "cells": [
  {
   "cell_type": "code",
   "execution_count": 4,
   "id": "4c65a367-a71d-4a91-9112-210de210ad71",
   "metadata": {},
   "outputs": [],
   "source": [
    "%matplotlib inline\n",
    "import numpy as np\n",
    "import matplotlib.pyplot as plt\n",
    "import matplotlib.patheffects as pe\n",
    "from glob import glob\n",
    "mype = [pe.withStroke(linewidth=4, foreground='w')]"
   ]
  },
  {
   "cell_type": "code",
   "execution_count": null,
   "id": "3c8068c3-af98-4e1f-8395-4834210c56c6",
   "metadata": {},
   "outputs": [],
   "source": [
    "f, ax = plt.subplots(1,1, figsize=[4,2])\n",
    "files =  glob('../exp/prod-adam-run2/analyses/prod/*/*-r1.08/persist.dat')\n",
    "\n",
    "t, a, b, p = np.mean([np.loadtxt(f) for f in files], axis=0).T\n",
    "print(a[0],b[0],p[0])\n",
    "ax.plot(t, a/a[0])\n",
    "ax.plot(t, b/b[0])\n",
    "ax.plot(t, p/p[0])\n",
    "leg = ax.legend(['O-H$_1$', 'N$_1$-H$_1$', 'O-H$_1$-N$_1$'])\n",
    "# ax.set_xlim(0,50)\n",
    "ax.set_ylim(-0.1,1.1)\n",
    "ax.grid(lw=1)\n",
    "for t in leg.get_texts():\n",
    "    t.set_path_effects(mype)\n",
    "\n",
    "ax.set_xlabel('t [ps]', fontsize=11)\n",
    "ax.set_ylabel('$c_c$(t)', fontsize=11)\n",
    "plt.savefig('figs/fig3-life.png')"
   ]
  },
  {
   "cell_type": "code",
   "execution_count": 32,
   "id": "3e4cd95a-0330-4e6e-b68b-5d0d10c6226f",
   "metadata": {},
   "outputs": [
    {
     "name": "stdout",
     "output_type": "stream",
     "text": [
      "19972.333333333332 2459.6666666666665 12.666666666666666\n"
     ]
    },
    {
     "data": {
      "image/png": "[encoded data removed]",
      "text/plain": [
       "<Figure size 288x144 with 1 Axes>"
      ]
     },
     "metadata": {
      "needs_background": "light"
     },
     "output_type": "display_data"
    }
   ],
   "source": [
    "f, ax = plt.subplots(1,1, figsize=[4,2])\n",
    "files =  glob('../exp/prod-adam-run2/analyses/vali/*-r1.08/persist.dat')\n",
    "\n",
    "t, a, b, p = np.mean([np.loadtxt(f) for f in files], axis=0).T\n",
    "print(a[0],b[0],p[0])\n",
    "ax.plot(t, a/a[0])\n",
    "ax.plot(t, b/b[0])\n",
    "ax.plot(t, p/p[0])\n",
    "leg = ax.legend(['O-H$_1$', 'N$_1$-H$_1$', 'O-H$_1$-N$_1$'])\n",
    "# ax.set_xlim(0,50)\n",
    "ax.set_ylim(-0.1,1.1)\n",
    "ax.grid(lw=1)\n",
    "for t in leg.get_texts():\n",
    "    t.set_path_effects(mype)\n",
    "\n",
    "ax.set_xlabel('t [ps]', fontsize=11)\n",
    "ax.set_ylabel('$c_c$(t)', fontsize=11)\n",
    "plt.savefig('figs/fig3-life.png')"
   ]
  },
  {
   "cell_type": "code",
   "execution_count": 37,
   "id": "856309c2-591f-46f7-8bb4-2b41bf49fc79",
   "metadata": {},
   "outputs": [
    {
     "name": "stdout",
     "output_type": "stream",
     "text": [
      "[(1100, 11), (1100, 11), (1100, 11)]\n",
      "[(50000, 11), (50000, 11), (50000, 11)]\n",
      "[(1000, 11), (1000, 11), (1000, 11)]\n"
     ]
    },
    {
     "data": {
      "image/png": "[encoded data removed]",
      "text/plain": [
       "<Figure size 288x144 with 3 Axes>"
      ]
     },
     "metadata": {
      "needs_background": "light"
     },
     "output_type": "display_data"
    }
   ],
   "source": [
    "def draw_hb_net(ax, files, window=10):\n",
    "    hbnet =  [np.loadtxt(data) for data in files]\n",
    "    print([np.loadtxt(data).shape for data in files])\n",
    "    hbnet = np.array(hbnet)\n",
    "    t = hbnet[0,::window,0]\n",
    "    molperc = hbnet[:,:,1].reshape([hbnet.shape[0],-1,window])/32.\n",
    "    molperc = molperc.mean(axis=2)\n",
    "    hbpop = hbnet[:,:,3:].cumsum(axis=2)/64.\n",
    "    hbpop = hbpop.reshape([hbpop.shape[0],-1,window,hbpop.shape[-1]]).mean(axis=2)\n",
    "    # axis: sample, time, HBSIZE\n",
    "    colors = ['tab:blue', 'tab:green', 'tab:orange', 'tab:red']\n",
    "    l, = ax.plot(t, molperc.mean(axis=0), 'k-', lw=1)\n",
    "    handles = []\n",
    "    for x, color in list(zip(hbpop.T, colors))[::-1]:\n",
    "        h = ax.fill_between(t, x.mean(axis=1), color=color, alpha=1)\n",
    "        handles.append(h)\n",
    "    handles.append(l)\n",
    "    return handles\n",
    "\n",
    "f, axs = plt.subplots(1,3,gridspec_kw={'width_ratios': [1,3,1], 'wspace':0},\n",
    "                      figsize=[4,2], sharey=True)\n",
    "[ax.grid(lw=1) for ax in axs]\n",
    "\n",
    "files =  glob('../exp/prod-adam-run2/analyses/cp2k/*-rho1.0753/hbnet.dat')\n",
    "handles = draw_hb_net(axs[0], files)\n",
    "files =  glob('../exp/prod-adam-run2/analyses/prod/nvt-340k-5ns-0/*-r1.08/hbnet.dat')\n",
    "draw_hb_net(axs[1], files, window=10)\n",
    "files =  glob('../exp/prod-adam-run2/analyses/vali/*-r1.08/hbnet.dat')\n",
    "draw_hb_net(axs[2], files)\n",
    "\n",
    "axs[0].legend(handles[::-1], \n",
    "              ['HOAc']+[f'HB{i+2}' for i in range(len(handles))], \n",
    "              loc=3, bbox_to_anchor=[0,1.25],\n",
    "              handlelength=1.2, ncol=5, fontsize=11,\n",
    "              columnspacing=0.5, handletextpad=0.2, \n",
    "              borderaxespad=0)\n",
    "\n",
    "[ax.set_xticks([]) for ax in axs]\n",
    "axs[0].set_xlim(10,110)\n",
    "axs[1].set_xlim(0,5000)\n",
    "axs[2].set_xlim(0,100)\n",
    "axs[0].set_ylim(0,1)\n",
    "axs[0].set_title('CP2K\\n revPBE-D3', fontsize=11)\n",
    "axs[1].set_title('PiNN\\n A-LOTF, Gen 30', fontsize=11)\n",
    "axs[2].set_title('CP2K\\n revPBE-D3', fontsize=11)\n",
    "axs[0].set_xlabel('100 ps', fontsize=11)\n",
    "axs[1].set_xlabel('5 ns', fontsize=11)\n",
    "axs[2].set_xlabel('100 ps (II)', fontsize=11)\n",
    "axs[0].set_ylabel('Fraction')\n",
    "plt.savefig('figs/fig4-hbnet.png')"
   ]
  }
 ],
 "metadata": {
  "kernelspec": {
   "display_name": "pinn-tf2",
   "language": "python",
   "name": "pinn-tf2"
  },
  "language_info": {
   "codemirror_mode": {
    "name": "ipython",
    "version": 3
   },
   "file_extension": ".py",
   "mimetype": "text/x-python",
   "name": "python",
   "nbconvert_exporter": "python",
   "pygments_lexer": "ipython3",
   "version": "3.9.5"
  }
 },
 "nbformat": 4,
 "nbformat_minor": 5
}
