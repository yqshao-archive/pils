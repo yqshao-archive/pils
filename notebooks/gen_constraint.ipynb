{
 "cells": [
  {
   "cell_type": "markdown",
   "id": "2c7f38ef-611f-42ba-ae3e-0280ca1f479f",
   "metadata": {},
   "source": [
    "# This notebook manually generates the starting point for constrained MD simulation"
   ]
  },
  {
   "cell_type": "code",
   "execution_count": null,
   "id": "f8b50362-9ced-4d7e-877c-694db8e7967e",
   "metadata": {},
   "outputs": [],
   "source": [
    "from ase.io import read, write\n",
    "from lib.topo import mkconst"
   ]
  },
  {
   "cell_type": "code",
   "execution_count": null,
   "id": "673eca06-92ba-43fc-a282-97611b42479b",
   "metadata": {},
   "outputs": [],
   "source": [
    "lastns = read('../exp/transfer/prod/gen35/nvt-450k-5ns-0/a16b16i16-r1.08/asemd.traj', index='40001::1000')\n",
    "for i, atoms in enumerate(lastns):\n",
    "    atoms, ratio = mkconst(atoms)\n",
    "    write(f'../skel/restart/450k-{i}-{ratio:.2f}.xyz', atoms)"
   ]
  },
  {
   "cell_type": "code",
   "execution_count": null,
   "id": "d16a51cc-f63e-4e3d-8d27-69854caad0d2",
   "metadata": {},
   "outputs": [],
   "source": [
    "lastns = read('../exp/transfer/prod/gen35/nvt-400k-5ns-0/a16b16i16-r1.08/asemd.traj', index='40001::1000')\n",
    "for i, atoms in enumerate(lastns):\n",
    "    atoms, ratio = mkconst(atoms)\n",
    "    write(f'../skel/restart/400k-{i}-{ratio:.2f}.xyz', atoms)"
   ]
  },
  {
   "cell_type": "code",
   "execution_count": null,
   "id": "365c4c3e-5614-4c02-b8d0-541ce2efbb2f",
   "metadata": {},
   "outputs": [],
   "source": [
    "lastns = read('../exp/prod-adam-run2/prod/gen30/nvt-340k-5ns-0/a16b16i16-r1.08/asemd.traj', index='40001::1000')\n",
    "for i, atoms in enumerate(lastns):\n",
    "    atoms, ratio = mkconst(atoms)\n",
    "    write(f'../skel/restart/340k-{i}-{ratio:.2f}.xyz', atoms)"
   ]
  },
  {
   "cell_type": "code",
   "execution_count": null,
   "id": "2aa6fd68-da7c-4b33-9d6f-52ec7361a2cf",
   "metadata": {},
   "outputs": [],
   "source": [
    "lastns = read('../exp/prod-adam-run2/prod/gen30/nvt-380k-5ns-0/a16b16i16-r1.08/asemd.traj', index='40001::1000')\n",
    "for i, atoms in enumerate(lastns):\n",
    "    atoms, ratio = mkconst(atoms)\n",
    "    write(f'../skel/restart/380k-{i}-{ratio:.2f}.xyz', atoms)"
   ]
  }
 ],
 "metadata": {
  "kernelspec": {
   "display_name": "pinn-tf2",
   "language": "python",
   "name": "pinn-tf2"
  },
  "language_info": {
   "codemirror_mode": {
    "name": "ipython",
    "version": 3
   },
   "file_extension": ".py",
   "mimetype": "text/x-python",
   "name": "python",
   "nbconvert_exporter": "python",
   "pygments_lexer": "ipython3",
   "version": "3.9.5"
  }
 },
 "nbformat": 4,
 "nbformat_minor": 5
}
