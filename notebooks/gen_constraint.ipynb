{
 "cells": [
  {
   "cell_type": "markdown",
   "id": "2c7f38ef-611f-42ba-ae3e-0280ca1f479f",
   "metadata": {},
   "source": [
    "# This notebook manually generates the starting point for constrained MD simulation"
   ]
  },
  {
   "cell_type": "code",
   "execution_count": 7,
   "id": "f8b50362-9ced-4d7e-877c-694db8e7967e",
   "metadata": {},
   "outputs": [],
   "source": [
    "from ase.io import read, write\n",
    "from lib.topo import mkconst\n",
    "import numpy as np"
   ]
  },
  {
   "cell_type": "code",
   "execution_count": 9,
   "id": "4cb59f85-b593-4278-b66b-42a41551a1e0",
   "metadata": {},
   "outputs": [
    {
     "name": "stdout",
     "output_type": "stream",
     "text": [
      "0.84375\n",
      "0.90625\n",
      "0.875\n",
      "0.9375\n",
      "0.90625\n",
      "0.9375\n",
      "0.90625\n",
      "0.90625\n",
      "0.9375\n",
      "0.875\n",
      "0.903125\n"
     ]
    }
   ],
   "source": [
    "lastns = read('../exp/pinet2-scan/prod/gen8/nvt-340k-5ns-0/a16b16i16-r1.08/asemd.traj', index='40001::1000')\n",
    "ratios = []\n",
    "for i, atoms in enumerate(lastns):\n",
    "    atoms, ratio = mkconst(atoms)\n",
    "    print(1-ratio)\n",
    "    ratios.append(1-ratio)\n",
    "print(np.mean(ratios))"
   ]
  },
  {
   "cell_type": "code",
   "execution_count": 16,
   "id": "a45d8c32-fcf6-41f9-ae44-1f8f7ba6a528",
   "metadata": {},
   "outputs": [],
   "source": [
    "lastns = read('../exp/scan/prod/gen49/nvt-300k-5ns-0/a16b16i16-r1.08/asemd.traj', index='40001::100')\n",
    "ratio_cnt = {}\n",
    "for i, atoms in enumerate(lastns):\n",
    "    atoms, ratio = mkconst(atoms)\n",
    "    if ratio not in ratio_cnt:\n",
    "        ratio_cnt[ratio] = 1\n",
    "    else:\n",
    "        ratio_cnt[ratio] += 1\n",
    "    if ratio_cnt[ratio]<=3 and ratio<0.3:\n",
    "        write(f'../skel/scan-restart/300k-{ratio:.2f}-{i}.xyz', atoms)"
   ]
  },
  {
   "cell_type": "code",
   "execution_count": 17,
   "id": "b57d29af-f696-4424-b26f-a6b039aa20be",
   "metadata": {},
   "outputs": [],
   "source": [
    "lastns = read('../exp/hicut/prod/gen47/nvt-300k-5ns-0/a16b16i16-r1.08/asemd.traj', index='40001::100')\n",
    "ratio_cnt = {}\n",
    "for i, atoms in enumerate(lastns):\n",
    "    atoms, ratio = mkconst(atoms)\n",
    "    if ratio not in ratio_cnt:\n",
    "        ratio_cnt[ratio] = 1\n",
    "    else:\n",
    "        ratio_cnt[ratio] += 1\n",
    "    if ratio_cnt[ratio]<=3 and ratio<0.3:\n",
    "        write(f'../skel/hicut-restart/300k-{ratio:.2f}-{i}.xyz', atoms)"
   ]
  },
  {
   "cell_type": "code",
   "execution_count": 2,
   "id": "673eca06-92ba-43fc-a282-97611b42479b",
   "metadata": {},
   "outputs": [],
   "source": [
    "lastns = read('../exp/transfer/prod/gen35/nvt-450k-5ns-0/a16b16i16-r1.08/asemd.traj', index='40001::1000')\n",
    "for i, atoms in enumerate(lastns):\n",
    "    atoms, ratio = mkconst(atoms)\n",
    "    write(f'../skel/restart/450k-{i}-{ratio:.2f}.xyz', atoms)"
   ]
  },
  {
   "cell_type": "code",
   "execution_count": 3,
   "id": "d16a51cc-f63e-4e3d-8d27-69854caad0d2",
   "metadata": {},
   "outputs": [],
   "source": [
    "lastns = read('../exp/transfer/prod/gen35/nvt-400k-5ns-0/a16b16i16-r1.08/asemd.traj', index='40001::1000')\n",
    "for i, atoms in enumerate(lastns):\n",
    "    atoms, ratio = mkconst(atoms)\n",
    "    write(f'../skel/restart/400k-{i}-{ratio:.2f}.xyz', atoms)"
   ]
  },
  {
   "cell_type": "code",
   "execution_count": 4,
   "id": "365c4c3e-5614-4c02-b8d0-541ce2efbb2f",
   "metadata": {},
   "outputs": [],
   "source": [
    "lastns = read('../exp/prod-adam-run2/prod/gen30/nvt-340k-5ns-0/a16b16i16-r1.08/asemd.traj', index='40001::1000')\n",
    "for i, atoms in enumerate(lastns):\n",
    "    atoms, ratio = mkconst(atoms)\n",
    "    write(f'../skel/restart/340k-{i}-{ratio:.2f}.xyz', atoms)"
   ]
  },
  {
   "cell_type": "code",
   "execution_count": 5,
   "id": "2aa6fd68-da7c-4b33-9d6f-52ec7361a2cf",
   "metadata": {},
   "outputs": [],
   "source": [
    "lastns = read('../exp/prod-adam-run2/prod/gen30/nvt-380k-5ns-0/a16b16i16-r1.08/asemd.traj', index='40001::1000')\n",
    "for i, atoms in enumerate(lastns):\n",
    "    atoms, ratio = mkconst(atoms)\n",
    "    write(f'../skel/restart/380k-{i}-{ratio:.2f}.xyz', atoms)"
   ]
  },
  {
   "cell_type": "markdown",
   "id": "fae18730-57ce-45b6-9ea5-2ec397f7b563",
   "metadata": {},
   "source": [
    "## Testing constraint"
   ]
  },
  {
   "cell_type": "code",
   "execution_count": 38,
   "id": "f4b1736d-79eb-4fcf-aeb4-35532f3fcc62",
   "metadata": {},
   "outputs": [],
   "source": [
    "from ase.io import read\n",
    "import numpy as np\n",
    "traj = read('../trajs/constmd/340k-0-0.22/asemd.traj', index='::50')"
   ]
  },
  {
   "cell_type": "code",
   "execution_count": 39,
   "id": "84c74943-68f5-436f-beb6-9ec895875873",
   "metadata": {},
   "outputs": [],
   "source": [
    "distances = np.array([[atoms.get_distance(*const.indices, mic=True) \n",
    "             for const in atoms.constraints] \n",
    "             for atoms in traj])"
   ]
  },
  {
   "cell_type": "code",
   "execution_count": 54,
   "id": "78215097-be76-4d14-ad44-5c613cc02164",
   "metadata": {},
   "outputs": [
    {
     "data": {
      "text/plain": [
       "(array([   0.,    0.,    0.,    0.,    0.,    0.,   19.,  121.,  448.,\n",
       "         958., 1591., 1992., 1986., 1725., 1349., 1022.,  749.,  526.,\n",
       "         356.,  254.,  218.,  156.,  143.,  127.,   99.,  134.,  130.,\n",
       "         131.,  131.,  133.,  129.,  155.,  164.,  194.,  202.,  199.,\n",
       "         201.,  160.,  153.,  104.,   68.,   46.,   24.,   11.,    7.,\n",
       "           3.,    2.,    0.,    0.]),\n",
       " array([0.8 , 0.82, 0.84, 0.86, 0.88, 0.9 , 0.92, 0.94, 0.96, 0.98, 1.  ,\n",
       "        1.02, 1.04, 1.06, 1.08, 1.1 , 1.12, 1.14, 1.16, 1.18, 1.2 , 1.22,\n",
       "        1.24, 1.26, 1.28, 1.3 , 1.32, 1.34, 1.36, 1.38, 1.4 , 1.42, 1.44,\n",
       "        1.46, 1.48, 1.5 , 1.52, 1.54, 1.56, 1.58, 1.6 , 1.62, 1.64, 1.66,\n",
       "        1.68, 1.7 , 1.72, 1.74, 1.76, 1.78]),\n",
       " [<matplotlib.patches.Polygon at 0x7ff73e3cb850>])"
      ]
     },
     "execution_count": 54,
     "metadata": {},
     "output_type": "execute_result"
    },
    {
     "data": {
      "image/png": "[encoded data removed]",
      "text/plain": [
       "<Figure size 432x288 with 1 Axes>"
      ]
     },
     "metadata": {
      "needs_background": "light"
     },
     "output_type": "display_data"
    }
   ],
   "source": [
    "%matplotlib inline\n",
    "import matplotlib.pyplot as plt\n",
    "plt.hist(distances.flatten(), bins=np.arange(0.8,1.8,0.02), histtype='step')\n",
    "plt.hist(distances.flatten(), bins=np.arange(0.8,1.8,0.02), histtype='step')\n",
    "plt.hist(distances.flatten(), bins=np.arange(0.8,1.8,0.02), histtype='step')"
   ]
  }
 ],
 "metadata": {
  "kernelspec": {
   "display_name": "Python3",
   "language": "python",
   "name": "python3"
  },
  "language_info": {
   "codemirror_mode": {
    "name": "ipython",
    "version": 3
   },
   "file_extension": ".py",
   "mimetype": "text/x-python",
   "name": "python",
   "nbconvert_exporter": "python",
   "pygments_lexer": "ipython3",
   "version": "3.9.7"
  }
 },
 "nbformat": 4,
 "nbformat_minor": 5
}
