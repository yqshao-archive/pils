{
 "cells": [
  {
   "cell_type": "markdown",
   "id": "772e6fdd-409d-44bf-9237-65bfa8f9f8e9",
   "metadata": {},
   "source": [
    "# Conversion of NE and GK conductivities from experimental/simulation reports\n",
    "\n",
    "$\\sigma$ in mS/cm, other paramters in SI"
   ]
  },
  {
   "cell_type": "code",
   "execution_count": 119,
   "id": "076ad5ae-c602-456c-98be-cfa0f0a41016",
   "metadata": {},
   "outputs": [
    {
     "name": "stdout",
     "output_type": "stream",
     "text": [
      "sigma_NE: 112.109; Delta 0.839\n"
     ]
    }
   ],
   "source": [
    "NA = 6.022e23\n",
    "MW = (60.052 + 82.10) * 1e-3\n",
    "q = 1.602176634e-19\n",
    "\n",
    "# rho = (1.072)*1e3\n",
    "# D1 = (1.95)*1e-10\n",
    "# D2 = (1.97)*1e-10\n",
    "# T = 298.15\n",
    "\n",
    "# rho = (1.0447)*1e3\n",
    "# D1 = (5.09)*1e-10\n",
    "# D2 = (5.84)*1e-10\n",
    "# T = 333.15\n",
    "\n",
    "# rho = (1.03) * 1e3\n",
    "# D1 = (1.75) * 1e-10\n",
    "# D2 = (1.13) * 1e-10\n",
    "# T = 300\n",
    "# GK = 2.9\n",
    "\n",
    "# rho = (1.03) * 1e3\n",
    "# D1 = (1.22) * 1e-10\n",
    "# D2 = (2.06) * 1e-10\n",
    "# T = 300\n",
    "# GK = 5.8\n",
    "# \n",
    "# rho = (1.0753) * 1e3\n",
    "# D1 = (0.17) * 1e-10\n",
    "# D2 = (0.15) * 1e-10\n",
    "# T = 340\n",
    "# GK = 0.50\n",
    "\n",
    "# rho = (1.0753) * 1e3\n",
    "# D1 = (0.55) * 1e-10\n",
    "# D2 = (0.7) * 1e-10\n",
    "# T = 380\n",
    "# GK = 2.3\n",
    "# \n",
    "rho = (1.0753) * 1e3\n",
    "D1 = (2.5) * 1e-10\n",
    "D2 = (2.53) * 1e-10\n",
    "T = 380\n",
    "GK = 18\n",
    "\n",
    "kB = 1.380649e-23\n",
    "NE = rho / MW * q**2 * (D1 + D2) / (kB * T) * NA * 10\n",
    "Delta = 1 - (GK / NE)\n",
    "print(f\"sigma_NE: {NE:.3f}; Delta {Delta:.3f}\")"
   ]
  },
  {
   "cell_type": "code",
   "execution_count": 111,
   "id": "3763acb0-9dc6-4ba5-bac8-e07c5a4795ea",
   "metadata": {},
   "outputs": [
    {
     "data": {
      "text/plain": [
       "0.49820261876265665"
      ]
     },
     "execution_count": 111,
     "metadata": {},
     "output_type": "execute_result"
    }
   ],
   "source": [
    "rho = 1.0753e3\n",
    "T = 340\n",
    "factor = rho / MW * q**2 / (kB * T) * NA * 10 / 32 * 1e-10\n",
    "0.64 * factor"
   ]
  },
  {
   "cell_type": "code",
   "execution_count": 114,
   "id": "97505ca6-f120-456a-b7ac-9aa699b994e2",
   "metadata": {},
   "outputs": [
    {
     "data": {
      "text/plain": [
       "(2.2566612040663756, 0.45969024527278024)"
      ]
     },
     "execution_count": 114,
     "metadata": {},
     "output_type": "execute_result"
    }
   ],
   "source": [
    "rho = 1.0753e3\n",
    "T = 380\n",
    "factor = rho / MW * q**2 / (kB * T) * NA * 10 / 32 * 1e-10\n",
    "3.24 * factor, 0.66*factor"
   ]
  },
  {
   "cell_type": "code",
   "execution_count": 118,
   "id": "42f9f425-9481-4e74-b878-30935c07f02f",
   "metadata": {},
   "outputs": [
    {
     "data": {
      "text/plain": [
       "(18.088114651112274, 6.226713322331295)"
      ]
     },
     "execution_count": 118,
     "metadata": {},
     "output_type": "execute_result"
    }
   ],
   "source": [
    "rho = 1.0753e3\n",
    "T = 380\n",
    "factor = rho / MW * q**2 / (kB * T) * NA * 10 / 32 * 1e-10\n",
    "25.97 * factor, 8.94*factor"
   ]
  }
 ],
 "metadata": {
  "kernelspec": {
   "display_name": "pinn-tf2",
   "language": "python",
   "name": "pinn-tf2"
  },
  "language_info": {
   "codemirror_mode": {
    "name": "ipython",
    "version": 3
   },
   "file_extension": ".py",
   "mimetype": "text/x-python",
   "name": "python",
   "nbconvert_exporter": "python",
   "pygments_lexer": "ipython3",
   "version": "3.9.5"
  }
 },
 "nbformat": 4,
 "nbformat_minor": 5
}
