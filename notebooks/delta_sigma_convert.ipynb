{
 "cells": [
  {
   "cell_type": "markdown",
   "id": "772e6fdd-409d-44bf-9237-65bfa8f9f8e9",
   "metadata": {},
   "source": [
    "# Conversion of NE and GK conductivities from experimental/simulation reports\n",
    "\n",
    "$\\sigma$ in mS/cm, other paramters in SI"
   ]
  },
  {
   "cell_type": "code",
   "execution_count": 97,
   "id": "076ad5ae-c602-456c-98be-cfa0f0a41016",
   "metadata": {},
   "outputs": [
    {
     "name": "stdout",
     "output_type": "stream",
     "text": [
      "sigma_NE: 9.924; Delta 0.940\n"
     ]
    }
   ],
   "source": [
    "NA = 6.022e23\n",
    "MW = (60.052 + 82.10) * 1e-3\n",
    "q = 1.602176634e-19\n",
    "\n",
    "# rho = (1.072)*1e3\n",
    "# D1 = (1.95)*1e-10\n",
    "# D2 = (1.97)*1e-10\n",
    "# T = 298.15\n",
    "\n",
    "# rho = (1.03) * 1e3\n",
    "# D1 = (1.14) * 1e-10\n",
    "# D2 = (1.13) * 1e-10\n",
    "# T = 300\n",
    "\n",
    "rho = (1.08) * 1e3\n",
    "D1 = (0.18) * 1e-10\n",
    "D2 = (0.17) * 1e-10\n",
    "T = 300\n",
    "\n",
    "kB = 1.380649e-23\n",
    "NE = rho / MW * q**2 * (D1 + D2) / (kB * T) * NA * 10\n",
    "GK = 0.6\n",
    "Delta = 1 - (GK / NE)\n",
    "print(f\"sigma_NE: {NE:.3f}; Delta {Delta:.3f}\")"
   ]
  },
  {
   "cell_type": "code",
   "execution_count": 92,
   "id": "3763acb0-9dc6-4ba5-bac8-e07c5a4795ea",
   "metadata": {},
   "outputs": [
    {
     "data": {
      "text/plain": [
       "0.8860899361885808"
      ]
     },
     "execution_count": 92,
     "metadata": {},
     "output_type": "execute_result"
    }
   ],
   "source": [
    "rho = 1.08e3\n",
    "T = 300\n",
    "rho / MW * q**2 / (kB * T) * NA * 10 / 32 * 1e-10"
   ]
  }
 ],
 "metadata": {
  "kernelspec": {
   "display_name": "pinn-tf2",
   "language": "python",
   "name": "pinn-tf2"
  },
  "language_info": {
   "codemirror_mode": {
    "name": "ipython",
    "version": 3
   },
   "file_extension": ".py",
   "mimetype": "text/x-python",
   "name": "python",
   "nbconvert_exporter": "python",
   "pygments_lexer": "ipython3",
   "version": "3.9.5"
  }
 },
 "nbformat": 4,
 "nbformat_minor": 5
}
